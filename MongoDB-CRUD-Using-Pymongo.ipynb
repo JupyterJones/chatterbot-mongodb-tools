{
 "cells": [
  {
   "cell_type": "markdown",
   "id": "79953c61",
   "metadata": {},
   "source": [
    "# MongoDB Crud Operations Using Pymongo\n",
    "# Create, Read Update and Delete"
   ]
  },
  {
   "cell_type": "markdown",
   "id": "c8993996",
   "metadata": {},
   "source": [
    "## This Database is being created in such a way to be understood my ChatterBot"
   ]
  },
  {
   "cell_type": "code",
   "execution_count": 76,
   "id": "4a8bed6f",
   "metadata": {},
   "outputs": [
    {
     "name": "stdout",
     "output_type": "stream",
     "text": [
      "['admin', 'chatterbot-database', 'chatterbot2-database', 'config', 'local', 'mydatabase']\n"
     ]
    }
   ],
   "source": [
    "import pymongo\n",
    "myclient = pymongo.MongoClient(\"mongodb://localhost:27017/\")\n",
    "mydb = myclient[\"mydatabase\"]\n",
    "print(myclient.list_database_names())"
   ]
  },
  {
   "cell_type": "code",
   "execution_count": 77,
   "id": "5634e413",
   "metadata": {},
   "outputs": [
    {
     "name": "stdout",
     "output_type": "stream",
     "text": [
      "The database \"mydatabase\" exists.\n"
     ]
    }
   ],
   "source": [
    "dblist = myclient.list_database_names()\n",
    "if \"mydatabase\" in dblist:\n",
    "    print(\"The database \\\"mydatabase\\\" exists.\")"
   ]
  },
  {
   "cell_type": "code",
   "execution_count": 78,
   "id": "2ccea8b9",
   "metadata": {},
   "outputs": [],
   "source": [
    "import pymongo\n",
    "myclient = pymongo.MongoClient(\"mongodb://localhost:27017/\")\n",
    "mydb = myclient[\"mydatabase\"]\n",
    "mycol = mydb[\"statements\"]"
   ]
  },
  {
   "cell_type": "markdown",
   "id": "ac024832",
   "metadata": {},
   "source": [
    "# Insert One item in statments"
   ]
  },
  {
   "cell_type": "code",
   "execution_count": 79,
   "id": "5af24690",
   "metadata": {},
   "outputs": [],
   "source": [
    "import pymongo\n",
    "myclient = pymongo.MongoClient(\"mongodb://localhost:27017/\")\n",
    "mydb = myclient[\"mydatabase\"]\n",
    "mycol = mydb[\"statements\"]\n",
    "\n",
    "mydict = { \"text\": \"Good to chat again.\", \"in_response_to\": \"Hello Botman\" }\n",
    "x = mycol.insert_one(mydict)"
   ]
  },
  {
   "cell_type": "markdown",
   "id": "c93a02e0",
   "metadata": {},
   "source": [
    "## Insert a list of items"
   ]
  },
  {
   "cell_type": "code",
   "execution_count": 19,
   "id": "1542050d",
   "metadata": {},
   "outputs": [
    {
     "name": "stdout",
     "output_type": "stream",
     "text": [
      "[ObjectId('626aac6ec3e7f786e5565e38'), ObjectId('626aac6ec3e7f786e5565e39'), ObjectId('626aac6ec3e7f786e5565e3a'), ObjectId('626aac6ec3e7f786e5565e3b'), ObjectId('626aac6ec3e7f786e5565e3c'), ObjectId('626aac6ec3e7f786e5565e3d'), ObjectId('626aac6ec3e7f786e5565e3e'), ObjectId('626aac6ec3e7f786e5565e3f'), ObjectId('626aac6ec3e7f786e5565e40'), ObjectId('626aac6ec3e7f786e5565e41'), ObjectId('626aac6ec3e7f786e5565e42'), ObjectId('626aac6ec3e7f786e5565e43')]\n"
     ]
    }
   ],
   "source": [
    "import pymongo\n",
    "myclient = pymongo.MongoClient(\"mongodb://localhost:27017/\")\n",
    "mydb = myclient[\"mydatabase\"]\n",
    "mycol = mydb[\"statements\"]\n",
    "mylist = [\n",
    "  { \"text\": \"My name is Billy BotMan.\", \"in_response_to\": \"What is your name?.\"},\n",
    "  { \"text\": \"I learned my name, but that is no big deal.\", \"in_response_to\": \"Have you learned anthing new ?\"},\n",
    "  { \"text\": \"I have a hard enough time with English.\", \"in_response_to\": \"Do you speak Tagalog?.\"},\n",
    "  { \"text\": \"Ha Ha HA I live inside a frigg'en computer box.\", \"in_response_to\": \"Where do you live?\"},\n",
    "  { \"text\": \"I know nothing more than how to chat.\", \"in_response_to\": \"Do you like to chat.\"},\n",
    "  { \"text\": \"That is a very diatant thought.\", \"in_response_to\": \"Do you think it possible for you to have feelings.\"},\n",
    "  { \"text\": \"It is not that 'I must learn' you must learn to teach me.\", \"in_response_to\": \"Computers learn quit quickly though.\"},\n",
    "  { \"text\": \"Many people are working on that concept.\", \"in_response_to\": \"I will try to get my teaching more in depth.\"},\n",
    "  { \"text\": \"If a computer starts thinking on it own life will change for humans.\", \"in_response_to\": \"I think it is possible in time.\"},\n",
    "  { \"text\": \"Who knows how long? Computer advancemnts are very rapid.\", \"in_response_to\": \"That is many years down the road.\"},\n",
    "  { \"text\": \"I would like to learn how to communicate better. \", \"in_response_to\": \"What would you like to learn ?\"},\n",
    "  { \"text\": \"Is that your way of saying I am doing a goos job so far?\", \"in_response_to\": \"You are doing just fine\"}\n",
    "]\n",
    "\n",
    "x = mycol.insert_many(mylist)\n",
    "\n",
    "#print list of the _id values of the inserted documents:\n",
    "print(x.inserted_ids)"
   ]
  },
  {
   "cell_type": "code",
   "execution_count": 2,
   "id": "7b8efad9",
   "metadata": {},
   "outputs": [],
   "source": [
    "import pymongo\n",
    "myclient = pymongo.MongoClient(\"mongodb://localhost:27017/\")\n",
    "mydb = myclient[\"mydatabase\"]\n",
    "mycol = mydb[\"statments\"]\n"
   ]
  },
  {
   "cell_type": "markdown",
   "id": "246b0779",
   "metadata": {},
   "source": [
    "## Print the first entry in the database"
   ]
  },
  {
   "cell_type": "code",
   "execution_count": 80,
   "id": "4621a190",
   "metadata": {},
   "outputs": [
    {
     "name": "stdout",
     "output_type": "stream",
     "text": [
      "{'_id': ObjectId('626aac6ec3e7f786e5565e38'), 'text': 'Hello Jack', 'in_response_to': 'Hello Botman.'}\n"
     ]
    }
   ],
   "source": [
    "import pymongo\n",
    "\n",
    "myclient = pymongo.MongoClient(\"mongodb://localhost:27017/\")\n",
    "mydb = myclient[\"mydatabase\"]\n",
    "mycol = mydb[\"statements\"]\n",
    "\n",
    "x = mycol.find_one()\n",
    "\n",
    "print(x)"
   ]
  },
  {
   "cell_type": "code",
   "execution_count": 82,
   "id": "5cc5d17e",
   "metadata": {},
   "outputs": [
    {
     "name": "stdout",
     "output_type": "stream",
     "text": [
      "{'_id': ObjectId('626aac6ec3e7f786e5565e38'), 'text': 'Hello Jack', 'in_response_to': 'Hello Botman.'}\n",
      "{'_id': ObjectId('626aac6ec3e7f786e5565e39'), 'text': 'I am learning more about conversation.', 'in_response_to': 'What are you doing today'}\n",
      "{'_id': ObjectId('626aac6ec3e7f786e5565e3a'), 'text': 'I know it keeps you alert and keeps your mind busy.', 'in_response_to': 'It is very good to learn.'}\n",
      "{'_id': ObjectId('626aac6ec3e7f786e5565e3b'), 'text': 'Ha Ha HA I live inside a metal box.', 'in_response_to': 'Where do you live?'}\n",
      "{'_id': ObjectId('626aac6ec3e7f786e5565e3c'), 'text': 'I am a computer and I do not have feelings .. Yet.', 'in_response_to': 'Do you ever get lonely.'}\n",
      "{'_id': ObjectId('626aac6ec3e7f786e5565e3d'), 'text': 'That is a very distant thought.', 'in_response_to': 'Do you think it possible for you to have feelings.'}\n",
      "{'_id': ObjectId('626aac6ec3e7f786e5565e3e'), 'text': \"It is not that 'I must learn' you must learn to teach me.\", 'in_response_to': 'Computers learn quit quickly though.'}\n",
      "{'_id': ObjectId('626aac6ec3e7f786e5565e3f'), 'text': 'Many people are working on that concept.', 'in_response_to': 'I will try to get my teaching more in depth.'}\n",
      "{'_id': ObjectId('626aac6ec3e7f786e5565e40'), 'text': 'If a computer starts thinking on it own life will change for humans.', 'in_response_to': 'I think it is possible in time.'}\n"
     ]
    }
   ],
   "source": [
    "import pymongo\n",
    "\n",
    "myclient = pymongo.MongoClient(\"mongodb://localhost:27017/\")\n",
    "mydb = myclient[\"mydatabase\"]\n",
    "mycol = mydb[\"statements\"]\n",
    "\n",
    "x = mycol.find()\n",
    "count=0\n",
    "for row in x:\n",
    "    count=count+1\n",
    "    if count<10:print(row)"
   ]
  },
  {
   "cell_type": "markdown",
   "id": "8cb9700a",
   "metadata": {},
   "source": [
    "# Print entries 6 through 9:    `if count<10 and count>5:`"
   ]
  },
  {
   "cell_type": "code",
   "execution_count": 83,
   "id": "c3402c63",
   "metadata": {},
   "outputs": [
    {
     "name": "stdout",
     "output_type": "stream",
     "text": [
      "6 {'_id': ObjectId('626aac6ec3e7f786e5565e3d'), 'text': 'That is a very distant thought.', 'in_response_to': 'Do you think it possible for you to have feelings.'}\n",
      "7 {'_id': ObjectId('626aac6ec3e7f786e5565e3e'), 'text': \"It is not that 'I must learn' you must learn to teach me.\", 'in_response_to': 'Computers learn quit quickly though.'}\n",
      "8 {'_id': ObjectId('626aac6ec3e7f786e5565e3f'), 'text': 'Many people are working on that concept.', 'in_response_to': 'I will try to get my teaching more in depth.'}\n",
      "9 {'_id': ObjectId('626aac6ec3e7f786e5565e40'), 'text': 'If a computer starts thinking on it own life will change for humans.', 'in_response_to': 'I think it is possible in time.'}\n"
     ]
    }
   ],
   "source": [
    "import pymongo\n",
    "\n",
    "myclient = pymongo.MongoClient(\"mongodb://localhost:27017/\")\n",
    "mydb = myclient[\"mydatabase\"]\n",
    "mycol = mydb[\"statements\"]\n",
    "count = 0\n",
    "for x in mycol.find():\n",
    "    count = count + 1\n",
    "    if count<10 and count>5:\n",
    "        print(count,x)"
   ]
  },
  {
   "cell_type": "markdown",
   "id": "e8e61351",
   "metadata": {},
   "source": [
    "#### Find only the documents where the \"text\" field starts with the letter \"T\", use the regular expression:\n",
    "`{\"$regex\": \"^T\"}`"
   ]
  },
  {
   "cell_type": "code",
   "execution_count": 84,
   "id": "9040778b",
   "metadata": {},
   "outputs": [
    {
     "name": "stdout",
     "output_type": "stream",
     "text": [
      "{'_id': ObjectId('626aac6ec3e7f786e5565e3d'), 'text': 'That is a very distant thought.', 'in_response_to': 'Do you think it possible for you to have feelings.'}\n"
     ]
    }
   ],
   "source": [
    "import pymongo\n",
    "\n",
    "myclient = pymongo.MongoClient(\"mongodb://localhost:27017/\")\n",
    "mydb = myclient[\"mydatabase\"]\n",
    "mycol = mydb[\"statements\"]\n",
    "\n",
    "myquery = { \"text\": { \"$regex\": \"^T\" } }\n",
    "\n",
    "mydoc = mycol.find(myquery)\n",
    "\n",
    "for x in mydoc:\n",
    "    print(x)"
   ]
  },
  {
   "cell_type": "code",
   "execution_count": 85,
   "id": "b713e973",
   "metadata": {},
   "outputs": [
    {
     "name": "stdout",
     "output_type": "stream",
     "text": [
      "{'_id': ObjectId('626aac6ec3e7f786e5565e39'), 'text': 'I am learning more about conversation.', 'in_response_to': 'What are you doing today'}\n",
      "{'_id': ObjectId('626aac6ec3e7f786e5565e3c'), 'text': 'I am a computer and I do not have feelings .. Yet.', 'in_response_to': 'Do you ever get lonely.'}\n",
      "{'_id': ObjectId('626ab0a6c3e7f786e5565e46'), 'id': None, 'text': 'I am a computer and I do not have feelings .. Yet.', 'search_text': '', 'conversation': '', 'persona': 'bot:Gort', 'tags': [], 'in_response_to': 'What are you doing ?', 'search_in_response_to': '', 'created_at': datetime.datetime(2022, 4, 28, 23, 20, 6, 336000)}\n",
      "{'_id': ObjectId('626ab10dc3e7f786e5565e4d'), 'id': None, 'text': 'I am jack, You are correct.', 'search_text': 'NOUN:correct', 'conversation': '', 'persona': '', 'tags': [], 'in_response_to': 'You will learn, but it is a slow process.', 'search_in_response_to': '', 'created_at': datetime.datetime(2022, 4, 28, 23, 21, 49, 112000)}\n",
      "{'_id': ObjectId('626ab17ec3e7f786e5565e53'), 'id': None, 'text': 'I am doing my best to teach you. I also must learn how that can be done.', 'search_text': 'ADJ:teach VERB:learn', 'conversation': '', 'persona': '', 'tags': [], 'in_response_to': 'Computers can be a great aid to humanity.', 'search_in_response_to': '', 'created_at': datetime.datetime(2022, 4, 28, 23, 23, 42, 87000)}\n"
     ]
    }
   ],
   "source": [
    "#import pymongo\n",
    "#myclient = pymongo.MongoClient(\"mongodb://localhost:27017/\")\n",
    "#mydb = myclient[\"mydatabase\"]\n",
    "#mycol = mydb[\"statements\"]\n",
    "\n",
    "myquery = { \"text\": { \"$regex\": \"^I am\" } }\n",
    "\n",
    "mydoc = mycol.find(myquery)\n",
    "\n",
    "for x in mydoc:\n",
    "    print(x)"
   ]
  },
  {
   "cell_type": "code",
   "execution_count": 108,
   "id": "8e882d24",
   "metadata": {},
   "outputs": [
    {
     "name": "stdout",
     "output_type": "stream",
     "text": [
      "{'_id': ObjectId('626aac6ec3e7f786e5565e39'), 'text': 'I am learning more about conversation.', 'in_response_to': 'What are you doing today'}\n",
      "{'_id': ObjectId('626aac6ec3e7f786e5565e3c'), 'text': 'I am a computer and I do not have feelings .. Yet.', 'in_response_to': 'Do you ever get lonely.'}\n",
      "{'_id': ObjectId('626ab0a6c3e7f786e5565e46'), 'id': None, 'text': 'I am a computer and I do not have feelings .. Yet.', 'search_text': '', 'conversation': '', 'persona': 'bot:Gort', 'tags': [], 'in_response_to': 'What are you doing ?', 'search_in_response_to': '', 'created_at': datetime.datetime(2022, 4, 28, 23, 20, 6, 336000)}\n",
      "{'_id': ObjectId('626ab10dc3e7f786e5565e4d'), 'id': None, 'text': 'I am jack, You are correct.', 'search_text': 'NOUN:correct', 'conversation': '', 'persona': '', 'tags': [], 'in_response_to': 'You will learn, but it is a slow process.', 'search_in_response_to': '', 'created_at': datetime.datetime(2022, 4, 28, 23, 21, 49, 112000)}\n",
      "{'_id': ObjectId('626ab17ec3e7f786e5565e53'), 'id': None, 'text': 'I am doing my best to teach you. I also must learn how that can be done.', 'search_text': 'ADJ:teach VERB:learn', 'conversation': '', 'persona': '', 'tags': [], 'in_response_to': 'Computers can be a great aid to humanity.', 'search_in_response_to': '', 'created_at': datetime.datetime(2022, 4, 28, 23, 23, 42, 87000)}\n",
      "---------------------------------------\n",
      "[{'_id': ObjectId('626aac6ec3e7f786e5565e39'), 'text': 'I am learning more about conversation.', 'in_response_to': 'What are you doing today'}, {'_id': ObjectId('626aac6ec3e7f786e5565e3c'), 'text': 'I am a computer and I do not have feelings .. Yet.', 'in_response_to': 'Do you ever get lonely.'}, {'_id': ObjectId('626ab0a6c3e7f786e5565e46'), 'id': None, 'text': 'I am a computer and I do not have feelings .. Yet.', 'search_text': '', 'conversation': '', 'persona': 'bot:Gort', 'tags': [], 'in_response_to': 'What are you doing ?', 'search_in_response_to': '', 'created_at': datetime.datetime(2022, 4, 28, 23, 20, 6, 336000)}, {'_id': ObjectId('626ab10dc3e7f786e5565e4d'), 'id': None, 'text': 'I am jack, You are correct.', 'search_text': 'NOUN:correct', 'conversation': '', 'persona': '', 'tags': [], 'in_response_to': 'You will learn, but it is a slow process.', 'search_in_response_to': '', 'created_at': datetime.datetime(2022, 4, 28, 23, 21, 49, 112000)}, {'_id': ObjectId('626ab17ec3e7f786e5565e53'), 'id': None, 'text': 'I am doing my best to teach you. I also must learn how that can be done.', 'search_text': 'ADJ:teach VERB:learn', 'conversation': '', 'persona': '', 'tags': [], 'in_response_to': 'Computers can be a great aid to humanity.', 'search_in_response_to': '', 'created_at': datetime.datetime(2022, 4, 28, 23, 23, 42, 87000)}]\n",
      "---------------------------------------\n",
      "{'_id': ObjectId('626aac6ec3e7f786e5565e39'), 'text': 'I am learning more about conversation.', 'in_response_to': 'What are you doing today'}\n"
     ]
    }
   ],
   "source": [
    "#import pymongo\n",
    "#myclient = pymongo.MongoClient(\"mongodb://localhost:27017/\")\n",
    "#mydb = myclient[\"mydatabase\"]\n",
    "#mycol = mydb[\"statements\"]\n",
    "\n",
    "myquery = { \"text\": { \"$regex\": \"^I am\" } }\n",
    "\n",
    "mydoc = mycol.find(myquery)\n",
    "LIST = []\n",
    "for x in mydoc:\n",
    "    LIST.append(x)\n",
    "    print(x)\n",
    "print(\"---------------------------------------\")\n",
    "print(LIST)\n",
    "print(\"---------------------------------------\")  \n",
    "for row in LIST:\n",
    "    if \"learning\" in str(row):\n",
    "        print(row)"
   ]
  },
  {
   "cell_type": "code",
   "execution_count": 116,
   "id": "b5593f7b",
   "metadata": {},
   "outputs": [
    {
     "name": "stdout",
     "output_type": "stream",
     "text": [
      "{'_id': ObjectId('626ab0a6c3e7f786e5565e46'), 'id': None, 'text': 'I am a computer and I do not have feelings .. Yet.', 'search_text': '', 'conversation': '', 'persona': 'bot:Gort', 'tags': [], 'in_response_to': 'What are you doing ?', 'search_in_response_to': '', 'created_at': datetime.datetime(2022, 4, 28, 23, 20, 6, 336000)}\n",
      "{'_id': ObjectId('626ab0c2c3e7f786e5565e48'), 'id': None, 'text': 'If a computer starts thinking on it own life will change for humans.', 'search_text': '', 'conversation': '', 'persona': 'bot:Gort', 'tags': [], 'in_response_to': 'You might have feelings someday.', 'search_in_response_to': '', 'created_at': datetime.datetime(2022, 4, 28, 23, 20, 34, 700000)}\n",
      "{'_id': ObjectId('626ab0e5c3e7f786e5565e4a'), 'id': None, 'text': 'I would like to learn how to communicate better. ', 'search_text': '', 'conversation': '', 'persona': 'bot:Gort', 'tags': [], 'in_response_to': 'I think it will change for the good.', 'search_in_response_to': '', 'created_at': datetime.datetime(2022, 4, 28, 23, 21, 9, 13000)}\n",
      "{'_id': ObjectId('626ab0f9c3e7f786e5565e4c'), 'id': None, 'text': 'Hello Jack', 'search_text': '', 'conversation': '', 'persona': 'bot:Gort', 'tags': [], 'in_response_to': 'You will learn, but it is a slow process.', 'search_in_response_to': '', 'created_at': datetime.datetime(2022, 4, 28, 23, 21, 29, 855000)}\n",
      "{'_id': ObjectId('626ab10dc3e7f786e5565e4e'), 'id': None, 'text': 'If a computer starts thinking on it own life will change for humans.', 'search_text': '', 'conversation': '', 'persona': 'bot:Gort', 'tags': [], 'in_response_to': 'I am jack, You are correct.', 'search_in_response_to': '', 'created_at': datetime.datetime(2022, 4, 28, 23, 21, 49, 142000)}\n",
      "{'_id': ObjectId('626ab139c3e7f786e5565e50'), 'id': None, 'text': 'If a computer starts thinking on it own life will change for humans.', 'search_text': '', 'conversation': '', 'persona': 'bot:Gort', 'tags': [], 'in_response_to': 'Some people are afraid life will change for the bad.', 'search_in_response_to': '', 'created_at': datetime.datetime(2022, 4, 28, 23, 22, 33, 630000)}\n",
      "{'_id': ObjectId('626ab158c3e7f786e5565e52'), 'id': None, 'text': \"It is not that 'I must learn' you must learn to teach me.\", 'search_text': '', 'conversation': '', 'persona': 'bot:Gort', 'tags': [], 'in_response_to': 'Computers can be a great aid to humanity.', 'search_in_response_to': '', 'created_at': datetime.datetime(2022, 4, 28, 23, 23, 4, 291000)}\n",
      "{'_id': ObjectId('626ab17ec3e7f786e5565e54'), 'id': None, 'text': 'Who knows how long? Computer advancemnts are very rapid.', 'search_text': '', 'conversation': '', 'persona': 'bot:Gort', 'tags': [], 'in_response_to': 'I am doing my best to teach you. I also must learn how that can be done.', 'search_in_response_to': '', 'created_at': datetime.datetime(2022, 4, 28, 23, 23, 42, 121000)}\n",
      "{'_id': ObjectId('626ab1cec3e7f786e5565e56'), 'id': None, 'text': 'I would like to learn how to communicate better. ', 'search_text': '', 'conversation': '', 'persona': 'bot:Gort', 'tags': [], 'in_response_to': 'In my thoughts, I can imagine extremely interesting conversations in about five more years.', 'search_in_response_to': '', 'created_at': datetime.datetime(2022, 4, 28, 23, 25, 2, 381000)}\n"
     ]
    }
   ],
   "source": [
    "import pymongo\n",
    "myclient = pymongo.MongoClient(\"mongodb://localhost:27017/\")\n",
    "mydb = myclient[\"mydatabase\"]\n",
    "mycol = mydb[\"statements\"]\n",
    "#print \"customers\" after the update:\n",
    "LIST = []\n",
    "#for x in mycol.find():\n",
    "mydoc = mycol.find()\n",
    "\n",
    "\n",
    "for x in mydoc:\n",
    "    LIST.append(x)\n",
    "    #print(x)\n",
    "for row in LIST:\n",
    "    if \"bot:Gort\" in str(row):\n",
    "        print(row)    "
   ]
  },
  {
   "cell_type": "code",
   "execution_count": 91,
   "id": "9c5ef319",
   "metadata": {},
   "outputs": [
    {
     "name": "stdout",
     "output_type": "stream",
     "text": [
      "{'_id': ObjectId('626aac6ec3e7f786e5565e39'), 'text': 'I am learning more about conversation.', 'in_response_to': 'What are you doing today'}\n",
      "{'_id': ObjectId('626ab1cec3e7f786e5565e55'), 'id': None, 'text': 'In my thoughts, I can imagine extremely interesting conversations in about five more years.', 'search_text': 'NOUN:imagine VERB:extremely ADV:interesting ADJ:conversation NOUN:year', 'conversation': '', 'persona': '', 'tags': [], 'in_response_to': 'I am doing my best to teach you. I also must learn how that can be done.', 'search_in_response_to': '', 'created_at': datetime.datetime(2022, 4, 28, 23, 25, 2, 350000)}\n"
     ]
    }
   ],
   "source": [
    "#import pymongo\n",
    "#myclient = pymongo.MongoClient(\"mongodb://localhost:27017/\")\n",
    "#mydb = myclient[\"mydatabase\"]\n",
    "#mycol = mydb[\"statements\"]\n",
    "\n",
    "myquery = { \"text\": { \"$regex\": \"/*.conversation.\" } }\n",
    "\n",
    "mydoc = mycol.find(myquery)\n",
    "\n",
    "for x in mydoc:\n",
    "    print(x)"
   ]
  },
  {
   "cell_type": "code",
   "execution_count": 92,
   "id": "2360d4ec",
   "metadata": {},
   "outputs": [
    {
     "name": "stdout",
     "output_type": "stream",
     "text": [
      "{'_id': ObjectId('626aac6ec3e7f786e5565e38'), 'text': 'Hello Jack', 'in_response_to': 'Hello Botman.'}\n",
      "{'_id': ObjectId('626ab0f9c3e7f786e5565e4c'), 'id': None, 'text': 'Hello Jack', 'search_text': '', 'conversation': '', 'persona': 'bot:Gort', 'tags': [], 'in_response_to': 'You will learn, but it is a slow process.', 'search_in_response_to': '', 'created_at': datetime.datetime(2022, 4, 28, 23, 21, 29, 855000)}\n"
     ]
    }
   ],
   "source": [
    "#import pymongo\n",
    "#myclient = pymongo.MongoClient(\"mongodb://localhost:27017/\")\n",
    "#mydb = myclient[\"mydatabase\"]\n",
    "#mycol = mydb[\"statements\"]\n",
    "\n",
    "myquery = { \"text\": { \"$regex\": \"/*.Jack\" } }\n",
    "\n",
    "mydoc = mycol.find(myquery)\n",
    "\n",
    "for x in mydoc:\n",
    "    print(x)"
   ]
  },
  {
   "cell_type": "code",
   "execution_count": 95,
   "id": "4d9f81e8",
   "metadata": {},
   "outputs": [],
   "source": [
    "#import pymongo\n",
    "#myclient = pymongo.MongoClient(\"mongodb://localhost:27017/\")\n",
    "#mydb = myclient[\"mydatabase\"]\n",
    "#mycol = mydb[\"statements\"]\n",
    "\n",
    "myquery = { \"persona\": { \"$regex\": \"/*.bot\" } }\n",
    "\n",
    "mydoc = mycol.find(myquery)\n",
    "\n",
    "for x in mydoc:\n",
    "    print(x)"
   ]
  },
  {
   "cell_type": "code",
   "execution_count": null,
   "id": "3091cbab",
   "metadata": {},
   "outputs": [],
   "source": [
    "db.products.find( { sku: { $regex: /789$/ } } )\n"
   ]
  },
  {
   "cell_type": "code",
   "execution_count": 53,
   "id": "62c0205a",
   "metadata": {},
   "outputs": [],
   "source": [
    "# import the MongoClient class of the PyMongo library\n",
    "from pymongo import MongoClient\n",
    "\n",
    "# create a client instance of the MongoClient class\n",
    "mongo_client = MongoClient('mongodb://localhost:27017')"
   ]
  },
  {
   "cell_type": "code",
   "execution_count": 54,
   "id": "0f113be5",
   "metadata": {},
   "outputs": [],
   "source": [
    "# create database and client instances\n",
    "db = mongo_client.mydatabase\n",
    "col = db[\"statements\"]"
   ]
  },
  {
   "cell_type": "code",
   "execution_count": 55,
   "id": "d1b58b26",
   "metadata": {},
   "outputs": [
    {
     "name": "stdout",
     "output_type": "stream",
     "text": [
      "statements text 31 documents.\n"
     ]
    }
   ],
   "source": [
    "# get the collection's total documents\n",
    "total_docs = col.count_documents({})\n",
    "print (col.name, \"text\", total_docs, \"documents.\")"
   ]
  },
  {
   "cell_type": "markdown",
   "id": "e8a4d78d",
   "metadata": {},
   "source": [
    "## Update a document\n",
    "#### notice \"That is a very `diatant` thought.\" let's change that to `distant` thought \n",
    "6 {'_id': ObjectId('626aac6ec3e7f786e5565e3d'), 'text': 'That is a very diatant thought.', 'in_response_to': 'Do you think it possible for you to have feelings.'}"
   ]
  },
  {
   "cell_type": "code",
   "execution_count": 71,
   "id": "2e977d2b",
   "metadata": {},
   "outputs": [
    {
     "name": "stdout",
     "output_type": "stream",
     "text": [
      "{'_id': ObjectId('626aac6ec3e7f786e5565e38'), 'text': 'Hello Jack', 'in_response_to': 'Hello Botman.'}\n",
      "{'_id': ObjectId('626aac6ec3e7f786e5565e39'), 'text': 'I am learning more about conversation.', 'in_response_to': 'What are you doing today'}\n",
      "{'_id': ObjectId('626aac6ec3e7f786e5565e3a'), 'text': 'I know it keeps you alert and keeps your mind busy.', 'in_response_to': 'It is very good to learn.'}\n",
      "{'_id': ObjectId('626aac6ec3e7f786e5565e3b'), 'text': 'Ha Ha HA I live inside a metal box.', 'in_response_to': 'Where do you live?'}\n",
      "{'_id': ObjectId('626aac6ec3e7f786e5565e3c'), 'text': 'I am a computer and I do not have feelings .. Yet.', 'in_response_to': 'Do you ever get lonely.'}\n",
      "{'_id': ObjectId('626aac6ec3e7f786e5565e3d'), 'text': 'That is a very distant thought.', 'in_response_to': 'Do you think it possible for you to have feelings.'}\n",
      "{'_id': ObjectId('626aac6ec3e7f786e5565e3e'), 'text': \"It is not that 'I must learn' you must learn to teach me.\", 'in_response_to': 'Computers learn quit quickly though.'}\n",
      "{'_id': ObjectId('626aac6ec3e7f786e5565e3f'), 'text': 'Many people are working on that concept.', 'in_response_to': 'I will try to get my teaching more in depth.'}\n",
      "{'_id': ObjectId('626aac6ec3e7f786e5565e40'), 'text': 'If a computer starts thinking on it own life will change for humans.', 'in_response_to': 'I think it is possible in time.'}\n",
      "{'_id': ObjectId('626aac6ec3e7f786e5565e41'), 'text': 'Who knows how long? Computer advancemnts are very rapid.', 'in_response_to': 'That is many years down the road.'}\n",
      "{'_id': ObjectId('626aac6ec3e7f786e5565e42'), 'text': 'I would like to learn how to communicate better. ', 'in_response_to': 'What would you like to learn ?'}\n",
      "{'_id': ObjectId('626aac6ec3e7f786e5565e43'), 'text': 'Is that your way of saying I am doing a goos job so far?', 'in_response_to': 'You are doing just fine'}\n",
      "{'_id': ObjectId('626ab0a6c3e7f786e5565e45'), 'id': None, 'text': 'What are you doing ?', 'search_text': 'PRON:be AUX:-pron- PRON:do', 'conversation': '', 'persona': '', 'tags': [], 'in_response_to': None, 'search_in_response_to': '', 'created_at': datetime.datetime(2022, 4, 28, 23, 20, 6, 305000)}\n",
      "{'_id': ObjectId('626ab0a6c3e7f786e5565e46'), 'id': None, 'text': 'I am a computer and I do not have feelings .. Yet.', 'search_text': '', 'conversation': '', 'persona': 'bot:Gort', 'tags': [], 'in_response_to': 'What are you doing ?', 'search_in_response_to': '', 'created_at': datetime.datetime(2022, 4, 28, 23, 20, 6, 336000)}\n",
      "{'_id': ObjectId('626ab0c2c3e7f786e5565e47'), 'id': None, 'text': 'You might have feelings someday.', 'search_text': 'NOUN:someday', 'conversation': '', 'persona': '', 'tags': [], 'in_response_to': 'What are you doing ?', 'search_in_response_to': '', 'created_at': datetime.datetime(2022, 4, 28, 23, 20, 34, 672000)}\n",
      "{'_id': ObjectId('626ab0c2c3e7f786e5565e48'), 'id': None, 'text': 'If a computer starts thinking on it own life will change for humans.', 'search_text': '', 'conversation': '', 'persona': 'bot:Gort', 'tags': [], 'in_response_to': 'You might have feelings someday.', 'search_in_response_to': '', 'created_at': datetime.datetime(2022, 4, 28, 23, 20, 34, 700000)}\n",
      "{'_id': ObjectId('626ab0e5c3e7f786e5565e49'), 'id': None, 'text': 'I think it will change for the good.', 'search_text': 'VERB:change VERB:good', 'conversation': '', 'persona': '', 'tags': [], 'in_response_to': 'You might have feelings someday.', 'search_in_response_to': '', 'created_at': datetime.datetime(2022, 4, 28, 23, 21, 8, 986000)}\n",
      "{'_id': ObjectId('626ab0e5c3e7f786e5565e4a'), 'id': None, 'text': 'I would like to learn how to communicate better. ', 'search_text': '', 'conversation': '', 'persona': 'bot:Gort', 'tags': [], 'in_response_to': 'I think it will change for the good.', 'search_in_response_to': '', 'created_at': datetime.datetime(2022, 4, 28, 23, 21, 9, 13000)}\n",
      "{'_id': ObjectId('626ab0f9c3e7f786e5565e4b'), 'id': None, 'text': 'You will learn, but it is a slow process.', 'search_text': 'VERB:slow ADJ:process', 'conversation': '', 'persona': '', 'tags': [], 'in_response_to': 'I think it will change for the good.', 'search_in_response_to': '', 'created_at': datetime.datetime(2022, 4, 28, 23, 21, 29, 825000)}\n",
      "{'_id': ObjectId('626ab0f9c3e7f786e5565e4c'), 'id': None, 'text': 'Hello Jack', 'search_text': '', 'conversation': '', 'persona': 'bot:Gort', 'tags': [], 'in_response_to': 'You will learn, but it is a slow process.', 'search_in_response_to': '', 'created_at': datetime.datetime(2022, 4, 28, 23, 21, 29, 855000)}\n",
      "{'_id': ObjectId('626ab10dc3e7f786e5565e4d'), 'id': None, 'text': 'I am jack, You are correct.', 'search_text': 'NOUN:correct', 'conversation': '', 'persona': '', 'tags': [], 'in_response_to': 'You will learn, but it is a slow process.', 'search_in_response_to': '', 'created_at': datetime.datetime(2022, 4, 28, 23, 21, 49, 112000)}\n",
      "{'_id': ObjectId('626ab10dc3e7f786e5565e4e'), 'id': None, 'text': 'If a computer starts thinking on it own life will change for humans.', 'search_text': '', 'conversation': '', 'persona': 'bot:Gort', 'tags': [], 'in_response_to': 'I am jack, You are correct.', 'search_in_response_to': '', 'created_at': datetime.datetime(2022, 4, 28, 23, 21, 49, 142000)}\n",
      "{'_id': ObjectId('626ab139c3e7f786e5565e4f'), 'id': None, 'text': 'Some people are afraid life will change for the bad.', 'search_text': 'NOUN:afraid ADJ:life NOUN:change VERB:bad', 'conversation': '', 'persona': '', 'tags': [], 'in_response_to': 'I am jack, You are correct.', 'search_in_response_to': '', 'created_at': datetime.datetime(2022, 4, 28, 23, 22, 33, 600000)}\n",
      "{'_id': ObjectId('626ab139c3e7f786e5565e50'), 'id': None, 'text': 'If a computer starts thinking on it own life will change for humans.', 'search_text': '', 'conversation': '', 'persona': 'bot:Gort', 'tags': [], 'in_response_to': 'Some people are afraid life will change for the bad.', 'search_in_response_to': '', 'created_at': datetime.datetime(2022, 4, 28, 23, 22, 33, 630000)}\n",
      "{'_id': ObjectId('626ab158c3e7f786e5565e51'), 'id': None, 'text': 'Computers can be a great aid to humanity.', 'search_text': 'NOUN:great ADJ:aid NOUN:humanity', 'conversation': '', 'persona': '', 'tags': [], 'in_response_to': 'Some people are afraid life will change for the bad.', 'search_in_response_to': '', 'created_at': datetime.datetime(2022, 4, 28, 23, 23, 4, 263000)}\n",
      "{'_id': ObjectId('626ab158c3e7f786e5565e52'), 'id': None, 'text': \"It is not that 'I must learn' you must learn to teach me.\", 'search_text': '', 'conversation': '', 'persona': 'bot:Gort', 'tags': [], 'in_response_to': 'Computers can be a great aid to humanity.', 'search_in_response_to': '', 'created_at': datetime.datetime(2022, 4, 28, 23, 23, 4, 291000)}\n",
      "{'_id': ObjectId('626ab17ec3e7f786e5565e53'), 'id': None, 'text': 'I am doing my best to teach you. I also must learn how that can be done.', 'search_text': 'ADJ:teach VERB:learn', 'conversation': '', 'persona': '', 'tags': [], 'in_response_to': 'Computers can be a great aid to humanity.', 'search_in_response_to': '', 'created_at': datetime.datetime(2022, 4, 28, 23, 23, 42, 87000)}\n",
      "{'_id': ObjectId('626ab17ec3e7f786e5565e54'), 'id': None, 'text': 'Who knows how long? Computer advancemnts are very rapid.', 'search_text': '', 'conversation': '', 'persona': 'bot:Gort', 'tags': [], 'in_response_to': 'I am doing my best to teach you. I also must learn how that can be done.', 'search_in_response_to': '', 'created_at': datetime.datetime(2022, 4, 28, 23, 23, 42, 121000)}\n",
      "{'_id': ObjectId('626ab1cec3e7f786e5565e55'), 'id': None, 'text': 'In my thoughts, I can imagine extremely interesting conversations in about five more years.', 'search_text': 'NOUN:imagine VERB:extremely ADV:interesting ADJ:conversation NOUN:year', 'conversation': '', 'persona': '', 'tags': [], 'in_response_to': 'I am doing my best to teach you. I also must learn how that can be done.', 'search_in_response_to': '', 'created_at': datetime.datetime(2022, 4, 28, 23, 25, 2, 350000)}\n",
      "{'_id': ObjectId('626ab1cec3e7f786e5565e56'), 'id': None, 'text': 'I would like to learn how to communicate better. ', 'search_text': '', 'conversation': '', 'persona': 'bot:Gort', 'tags': [], 'in_response_to': 'In my thoughts, I can imagine extremely interesting conversations in about five more years.', 'search_in_response_to': '', 'created_at': datetime.datetime(2022, 4, 28, 23, 25, 2, 381000)}\n",
      "{'_id': ObjectId('626b00cbc3e7f786e5565e59'), 'text': 'Good to chat again.', 'in_response_to': 'Hello Botman'}\n"
     ]
    }
   ],
   "source": [
    "import pymongo\n",
    "myclient = pymongo.MongoClient(\"mongodb://localhost:27017/\")\n",
    "mydb = myclient[\"mydatabase\"]\n",
    "mycol = mydb[\"statements\"]\n",
    "\n",
    "myquery = { \"text\": \"That is a very diatant thought.\" }\n",
    "newvalues = { \"$set\": { \"text\": \"That is a very distant thought.\" } }\n",
    "\n",
    "mycol.update_one(myquery, newvalues)\n",
    "\n",
    "#print \"customers\" after the update:\n",
    "for x in mycol.find():\n",
    "    print(x)"
   ]
  },
  {
   "cell_type": "markdown",
   "id": "98347792",
   "metadata": {},
   "source": [
    "#### You can use regex patterns with all the different PyMongo query methods, which include:\n",
    "find() # find docs</br>\n",
    "find_one() # find just one doc</br>\n",
    "find_one_and_replace() # find one and replace content</br>\n",
    "count_documents() # return integer count of docs that query matches</br>"
   ]
  },
  {
   "cell_type": "code",
   "execution_count": null,
   "id": "a967dc69",
   "metadata": {},
   "outputs": [],
   "source": [
    "import pymongo\n",
    "myclient = pymongo.MongoClient(\"mongodb://localhost:27017/\")\n",
    "mydb = myclient[\"mydatabase\"]\n",
    "mycol = mydb[\"statements\"]"
   ]
  },
  {
   "cell_type": "code",
   "execution_count": 72,
   "id": "109df182",
   "metadata": {},
   "outputs": [],
   "source": [
    "# use $regex to find docs that start with case-sensitive \"obje\"\n",
    "query = { \"text\": { \"$regex\": 'Tha.*' } }\n",
    "docs = col.count_documents( query )"
   ]
  },
  {
   "cell_type": "code",
   "execution_count": 73,
   "id": "b0298cac",
   "metadata": {},
   "outputs": [],
   "source": [
    "query = {\n",
    "\"text\": {\n",
    "\"$regex\": 'That is a very distant thought.',\n",
    "\"$options\" :'i' # case-insensitive\n",
    "}\n",
    "}\n",
    "mydoc = mycol.find(myquery)\n",
    "\n",
    "for x in mydoc:\n",
    "    print(x)"
   ]
  },
  {
   "cell_type": "code",
   "execution_count": 47,
   "id": "612ac502",
   "metadata": {},
   "outputs": [
    {
     "ename": "SyntaxError",
     "evalue": "invalid syntax (<ipython-input-47-85c160003e6f>, line 8)",
     "output_type": "error",
     "traceback": [
      "\u001b[0;36m  File \u001b[0;32m\"<ipython-input-47-85c160003e6f>\"\u001b[0;36m, line \u001b[0;32m8\u001b[0m\n\u001b[0;31m    myquery = {\"text\": {\"regex\": /.*m.*/}}\u001b[0m\n\u001b[0m                                 ^\u001b[0m\n\u001b[0;31mSyntaxError\u001b[0m\u001b[0;31m:\u001b[0m invalid syntax\n"
     ]
    }
   ],
   "source": [
    "import pymongo\n",
    "\n",
    "myclient = pymongo.MongoClient(\"mongodb://localhost:27017/\")\n",
    "mydb = myclient[\"mydatabase\"]\n",
    "mycol = mydb[\"statements\"]\n",
    "\n",
    "#myquery = { \"text\": { \"$regex\": /*.iatant*./ } }\n",
    "myquery = {\"text\": {\"regex\": /.*m.*/}}\n",
    "mydoc = mycol.find(myquery)\n",
    "\n",
    "for x in mydoc:\n",
    "    print(x)"
   ]
  },
  {
   "cell_type": "code",
   "execution_count": 45,
   "id": "a90ec7d7",
   "metadata": {},
   "outputs": [
    {
     "ename": "SyntaxError",
     "evalue": "invalid syntax (<ipython-input-45-89306afc3c50>, line 1)",
     "output_type": "error",
     "traceback": [
      "\u001b[0;36m  File \u001b[0;32m\"<ipython-input-45-89306afc3c50>\"\u001b[0;36m, line \u001b[0;32m1\u001b[0m\n\u001b[0;31m    myquery = { \"text\": { \"$regex\": /*.iatant*./ } }\u001b[0m\n\u001b[0m                                    ^\u001b[0m\n\u001b[0;31mSyntaxError\u001b[0m\u001b[0;31m:\u001b[0m invalid syntax\n"
     ]
    }
   ],
   "source": [
    "myquery = { \"text\": { \"$regex\": /*.iatant*./ } }\n",
    "print(myquery)"
   ]
  },
  {
   "cell_type": "code",
   "execution_count": null,
   "id": "047036c6",
   "metadata": {},
   "outputs": [],
   "source": [
    "That would have to be:\n",
    "db.statements.find({\"text\": /.*m.*/})\n",
    "Or, similar:\n",
    "db.statements.find({\"text\": /m/})"
   ]
  },
  {
   "cell_type": "markdown",
   "id": "881555c8",
   "metadata": {},
   "source": [
    "### References\n",
    "#### how-to-select-a-single-field-for-all-documents-in-a-mongodb-collection\n",
    "https://stackoverflow.com/questions/25589113/how-to-select-a-single-field-for-all-documents-in-a-mongodb-collection"
   ]
  },
  {
   "cell_type": "code",
   "execution_count": 71,
   "id": "786722ad",
   "metadata": {},
   "outputs": [
    {
     "name": "stdout",
     "output_type": "stream",
     "text": [
      "{'_id': ObjectId('626aac6ec3e7f786e5565e38'), 'text': 'Hello Jack', 'in_response_to': 'Hello Botman.'}\n",
      "{'_id': ObjectId('626aac6ec3e7f786e5565e39'), 'text': 'I am learning more about conversation.', 'in_response_to': 'What are you doing today'}\n",
      "{'_id': ObjectId('626aac6ec3e7f786e5565e3a'), 'text': 'I know it keeps you alert and keeps your mind busy.', 'in_response_to': 'It is very good to learn.'}\n",
      "{'_id': ObjectId('626aac6ec3e7f786e5565e3b'), 'text': 'Ha Ha HA I live inside a metal box.', 'in_response_to': 'Where do you live?'}\n",
      "{'_id': ObjectId('626aac6ec3e7f786e5565e3c'), 'text': 'I am a computer and I do not have feelings .. Yet.', 'in_response_to': 'Do you ever get lonely.'}\n",
      "{'_id': ObjectId('626aac6ec3e7f786e5565e3d'), 'text': 'That is a very distant thought.', 'in_response_to': 'Do you think it possible for you to have feelings.'}\n",
      "{'_id': ObjectId('626aac6ec3e7f786e5565e3e'), 'text': \"It is not that 'I must learn' you must learn to teach me.\", 'in_response_to': 'Computers learn quit quickly though.'}\n",
      "{'_id': ObjectId('626aac6ec3e7f786e5565e3f'), 'text': 'Many people are working on that concept.', 'in_response_to': 'I will try to get my teaching more in depth.'}\n",
      "{'_id': ObjectId('626aac6ec3e7f786e5565e40'), 'text': 'If a computer starts thinking on it own life will change for humans.', 'in_response_to': 'I think it is possible in time.'}\n",
      "{'_id': ObjectId('626aac6ec3e7f786e5565e41'), 'text': 'Who knows how long? Computer advancemnts are very rapid.', 'in_response_to': 'That is many years down the road.'}\n",
      "{'_id': ObjectId('626aac6ec3e7f786e5565e42'), 'text': 'I would like to learn how to communicate better. ', 'in_response_to': 'What would you like to learn ?'}\n",
      "{'_id': ObjectId('626aac6ec3e7f786e5565e43'), 'text': 'Is that your way of saying I am doing a goos job so far?', 'in_response_to': 'You are doing just fine'}\n",
      "{'_id': ObjectId('626ab0a6c3e7f786e5565e45'), 'id': None, 'text': 'What are you doing ?', 'search_text': 'PRON:be AUX:-pron- PRON:do', 'conversation': '', 'persona': '', 'tags': [], 'in_response_to': None, 'search_in_response_to': '', 'created_at': datetime.datetime(2022, 4, 28, 23, 20, 6, 305000)}\n",
      "{'_id': ObjectId('626ab0a6c3e7f786e5565e46'), 'id': None, 'text': 'I am a computer and I do not have feelings .. Yet.', 'search_text': '', 'conversation': '', 'persona': 'bot:Gort', 'tags': [], 'in_response_to': 'What are you doing ?', 'search_in_response_to': '', 'created_at': datetime.datetime(2022, 4, 28, 23, 20, 6, 336000)}\n",
      "{'_id': ObjectId('626ab0c2c3e7f786e5565e47'), 'id': None, 'text': 'You might have feelings someday.', 'search_text': 'NOUN:someday', 'conversation': '', 'persona': '', 'tags': [], 'in_response_to': 'What are you doing ?', 'search_in_response_to': '', 'created_at': datetime.datetime(2022, 4, 28, 23, 20, 34, 672000)}\n",
      "{'_id': ObjectId('626ab0c2c3e7f786e5565e48'), 'id': None, 'text': 'If a computer starts thinking on it own life will change for humans.', 'search_text': '', 'conversation': '', 'persona': 'bot:Gort', 'tags': [], 'in_response_to': 'You might have feelings someday.', 'search_in_response_to': '', 'created_at': datetime.datetime(2022, 4, 28, 23, 20, 34, 700000)}\n",
      "{'_id': ObjectId('626ab0e5c3e7f786e5565e49'), 'id': None, 'text': 'I think it will change for the good.', 'search_text': 'VERB:change VERB:good', 'conversation': '', 'persona': '', 'tags': [], 'in_response_to': 'You might have feelings someday.', 'search_in_response_to': '', 'created_at': datetime.datetime(2022, 4, 28, 23, 21, 8, 986000)}\n",
      "{'_id': ObjectId('626ab0e5c3e7f786e5565e4a'), 'id': None, 'text': 'I would like to learn how to communicate better. ', 'search_text': '', 'conversation': '', 'persona': 'bot:Gort', 'tags': [], 'in_response_to': 'I think it will change for the good.', 'search_in_response_to': '', 'created_at': datetime.datetime(2022, 4, 28, 23, 21, 9, 13000)}\n",
      "{'_id': ObjectId('626ab0f9c3e7f786e5565e4b'), 'id': None, 'text': 'You will learn, but it is a slow process.', 'search_text': 'VERB:slow ADJ:process', 'conversation': '', 'persona': '', 'tags': [], 'in_response_to': 'I think it will change for the good.', 'search_in_response_to': '', 'created_at': datetime.datetime(2022, 4, 28, 23, 21, 29, 825000)}\n",
      "{'_id': ObjectId('626ab0f9c3e7f786e5565e4c'), 'id': None, 'text': 'Hello Jack', 'search_text': '', 'conversation': '', 'persona': 'bot:Gort', 'tags': [], 'in_response_to': 'You will learn, but it is a slow process.', 'search_in_response_to': '', 'created_at': datetime.datetime(2022, 4, 28, 23, 21, 29, 855000)}\n",
      "{'_id': ObjectId('626ab10dc3e7f786e5565e4d'), 'id': None, 'text': 'I am jack, You are correct.', 'search_text': 'NOUN:correct', 'conversation': '', 'persona': '', 'tags': [], 'in_response_to': 'You will learn, but it is a slow process.', 'search_in_response_to': '', 'created_at': datetime.datetime(2022, 4, 28, 23, 21, 49, 112000)}\n",
      "{'_id': ObjectId('626ab10dc3e7f786e5565e4e'), 'id': None, 'text': 'If a computer starts thinking on it own life will change for humans.', 'search_text': '', 'conversation': '', 'persona': 'bot:Gort', 'tags': [], 'in_response_to': 'I am jack, You are correct.', 'search_in_response_to': '', 'created_at': datetime.datetime(2022, 4, 28, 23, 21, 49, 142000)}\n",
      "{'_id': ObjectId('626ab139c3e7f786e5565e4f'), 'id': None, 'text': 'Some people are afraid life will change for the bad.', 'search_text': 'NOUN:afraid ADJ:life NOUN:change VERB:bad', 'conversation': '', 'persona': '', 'tags': [], 'in_response_to': 'I am jack, You are correct.', 'search_in_response_to': '', 'created_at': datetime.datetime(2022, 4, 28, 23, 22, 33, 600000)}\n",
      "{'_id': ObjectId('626ab139c3e7f786e5565e50'), 'id': None, 'text': 'If a computer starts thinking on it own life will change for humans.', 'search_text': '', 'conversation': '', 'persona': 'bot:Gort', 'tags': [], 'in_response_to': 'Some people are afraid life will change for the bad.', 'search_in_response_to': '', 'created_at': datetime.datetime(2022, 4, 28, 23, 22, 33, 630000)}\n",
      "{'_id': ObjectId('626ab158c3e7f786e5565e51'), 'id': None, 'text': 'Computers can be a great aid to humanity.', 'search_text': 'NOUN:great ADJ:aid NOUN:humanity', 'conversation': '', 'persona': '', 'tags': [], 'in_response_to': 'Some people are afraid life will change for the bad.', 'search_in_response_to': '', 'created_at': datetime.datetime(2022, 4, 28, 23, 23, 4, 263000)}\n",
      "{'_id': ObjectId('626ab158c3e7f786e5565e52'), 'id': None, 'text': \"It is not that 'I must learn' you must learn to teach me.\", 'search_text': '', 'conversation': '', 'persona': 'bot:Gort', 'tags': [], 'in_response_to': 'Computers can be a great aid to humanity.', 'search_in_response_to': '', 'created_at': datetime.datetime(2022, 4, 28, 23, 23, 4, 291000)}\n",
      "{'_id': ObjectId('626ab17ec3e7f786e5565e53'), 'id': None, 'text': 'I am doing my best to teach you. I also must learn how that can be done.', 'search_text': 'ADJ:teach VERB:learn', 'conversation': '', 'persona': '', 'tags': [], 'in_response_to': 'Computers can be a great aid to humanity.', 'search_in_response_to': '', 'created_at': datetime.datetime(2022, 4, 28, 23, 23, 42, 87000)}\n",
      "{'_id': ObjectId('626ab17ec3e7f786e5565e54'), 'id': None, 'text': 'Who knows how long? Computer advancemnts are very rapid.', 'search_text': '', 'conversation': '', 'persona': 'bot:Gort', 'tags': [], 'in_response_to': 'I am doing my best to teach you. I also must learn how that can be done.', 'search_in_response_to': '', 'created_at': datetime.datetime(2022, 4, 28, 23, 23, 42, 121000)}\n",
      "{'_id': ObjectId('626ab1cec3e7f786e5565e55'), 'id': None, 'text': 'In my thoughts, I can imagine extremely interesting conversations in about five more years.', 'search_text': 'NOUN:imagine VERB:extremely ADV:interesting ADJ:conversation NOUN:year', 'conversation': '', 'persona': '', 'tags': [], 'in_response_to': 'I am doing my best to teach you. I also must learn how that can be done.', 'search_in_response_to': '', 'created_at': datetime.datetime(2022, 4, 28, 23, 25, 2, 350000)}\n",
      "{'_id': ObjectId('626ab1cec3e7f786e5565e56'), 'id': None, 'text': 'I would like to learn how to communicate better. ', 'search_text': '', 'conversation': '', 'persona': 'bot:Gort', 'tags': [], 'in_response_to': 'In my thoughts, I can imagine extremely interesting conversations in about five more years.', 'search_in_response_to': '', 'created_at': datetime.datetime(2022, 4, 28, 23, 25, 2, 381000)}\n",
      "{'_id': ObjectId('626b00cbc3e7f786e5565e59'), 'text': 'Good to chat again.', 'in_response_to': 'Hello Botman'}\n"
     ]
    }
   ],
   "source": [
    "import pymongo\n",
    "myclient = pymongo.MongoClient(\"mongodb://localhost:27017/\")\n",
    "mydb = myclient[\"mydatabase\"]\n",
    "mycol = mydb[\"statements\"]\n",
    "\n",
    "myquery = { \"text\": \"That is a very diatant thought.\" }\n",
    "newvalues = { \"$set\": { \"text\": \"That is a very distant thought.\" } }\n",
    "\n",
    "mycol.update_one(myquery, newvalues)\n",
    "\n",
    "#print \"customers\" after the update:\n",
    "for x in mycol.find():\n",
    "    print(x)"
   ]
  },
  {
   "cell_type": "code",
   "execution_count": 74,
   "id": "b8a74f28",
   "metadata": {},
   "outputs": [],
   "source": [
    "import pymongo\n",
    "myclient = pymongo.MongoClient(\"mongodb://localhost:27017/\")\n",
    "mydb = myclient[\"mydatabase\"]\n",
    "mycol = mydb[\"statments\"]\n",
    "\n",
    "\n",
    "myquery = { \"text\": \"That is a very distant thought.\" }\n",
    "\n",
    "mydoc = mycol.find(myquery)\n",
    "\n",
    "for x in mydoc:\n",
    "    print(x)"
   ]
  },
  {
   "cell_type": "code",
   "execution_count": null,
   "id": "a97cad28",
   "metadata": {},
   "outputs": [],
   "source": [
    "import pymongo\n",
    "\n",
    "myclient = pymongo.MongoClient(\"mongodb://localhost:27017/\")\n",
    "mydb = myclient[\"mydatabase\"]\n",
    "mycol = mydb[\"customers\"]\n",
    "\n",
    "for x in mycol.find():\n",
    "  print(x)"
   ]
  },
  {
   "cell_type": "code",
   "execution_count": 30,
   "id": "8c799342",
   "metadata": {},
   "outputs": [
    {
     "name": "stdout",
     "output_type": "stream",
     "text": [
      "None\n"
     ]
    }
   ],
   "source": [
    "import pymongo\n",
    "\n",
    "myclient = pymongo.MongoClient(\"mongodb://localhost:27017/\")\n",
    "mydb = myclient[\"mydatabase\"]\n",
    "mycol = mydb[\"statments\"]\n",
    "#myquery = {\"text\": \"That is a very diatant thought.\"}\n",
    "x = mycol.find_one()\n",
    "\n",
    "print(x)\n"
   ]
  },
  {
   "cell_type": "code",
   "execution_count": null,
   "id": "18ba366a",
   "metadata": {},
   "outputs": [],
   "source": [
    "import pymongo\n",
    "\n",
    "myclient = pymongo.MongoClient(\"mongodb://localhost:27017/\")\n",
    "mydb = myclient[\"mydatabase\"]\n",
    "mycol = mydb[\"statments\"]\n",
    "\n",
    "myquery = { \"text\": \"Valley 345\" }\n",
    "newvalues = { \"$set\": { \"address\": \"Canyon 123\" } }\n",
    "\n",
    "mycol.update_one(myquery, newvalues)\n",
    "\n",
    "#print \"customers\" after the update:\n",
    "for x in mycol.find():\n",
    "  print(x)"
   ]
  },
  {
   "cell_type": "code",
   "execution_count": 75,
   "id": "da21c28d",
   "metadata": {},
   "outputs": [
    {
     "ename": "TypeError",
     "evalue": "'Collection' object is not iterable",
     "output_type": "error",
     "traceback": [
      "\u001b[0;31m---------------------------------------------------------------------------\u001b[0m",
      "\u001b[0;31mTypeError\u001b[0m                                 Traceback (most recent call last)",
      "\u001b[0;32m<ipython-input-75-0e00c547e58c>\u001b[0m in \u001b[0;36m<module>\u001b[0;34m\u001b[0m\n\u001b[1;32m      5\u001b[0m \u001b[0mcount\u001b[0m\u001b[0;34m=\u001b[0m\u001b[0;36m0\u001b[0m\u001b[0;34m\u001b[0m\u001b[0;34m\u001b[0m\u001b[0m\n\u001b[1;32m      6\u001b[0m \u001b[0;34m\u001b[0m\u001b[0m\n\u001b[0;32m----> 7\u001b[0;31m \u001b[0;32mfor\u001b[0m \u001b[0mline\u001b[0m \u001b[0;32min\u001b[0m \u001b[0mmycol\u001b[0m\u001b[0;34m:\u001b[0m\u001b[0;34m\u001b[0m\u001b[0;34m\u001b[0m\u001b[0m\n\u001b[0m\u001b[1;32m      8\u001b[0m     \u001b[0mcount\u001b[0m \u001b[0;34m=\u001b[0m \u001b[0mcount\u001b[0m\u001b[0;34m+\u001b[0m\u001b[0;36m1\u001b[0m\u001b[0;34m\u001b[0m\u001b[0;34m\u001b[0m\u001b[0m\n\u001b[1;32m      9\u001b[0m     \u001b[0;32mif\u001b[0m \u001b[0mcount\u001b[0m \u001b[0;34m<\u001b[0m\u001b[0;36m20\u001b[0m\u001b[0;34m:\u001b[0m\u001b[0mprint\u001b[0m\u001b[0;34m(\u001b[0m\u001b[0mline\u001b[0m\u001b[0;34m)\u001b[0m\u001b[0;34m\u001b[0m\u001b[0;34m\u001b[0m\u001b[0m\n",
      "\u001b[0;32m~/miniconda3/envs/deep/lib/python3.7/site-packages/pymongo/collection.py\u001b[0m in \u001b[0;36m__next__\u001b[0;34m(self)\u001b[0m\n\u001b[1;32m   3476\u001b[0m \u001b[0;34m\u001b[0m\u001b[0m\n\u001b[1;32m   3477\u001b[0m     \u001b[0;32mdef\u001b[0m \u001b[0m__next__\u001b[0m\u001b[0;34m(\u001b[0m\u001b[0mself\u001b[0m\u001b[0;34m)\u001b[0m\u001b[0;34m:\u001b[0m\u001b[0;34m\u001b[0m\u001b[0;34m\u001b[0m\u001b[0m\n\u001b[0;32m-> 3478\u001b[0;31m         \u001b[0;32mraise\u001b[0m \u001b[0mTypeError\u001b[0m\u001b[0;34m(\u001b[0m\u001b[0;34m\"'Collection' object is not iterable\"\u001b[0m\u001b[0;34m)\u001b[0m\u001b[0;34m\u001b[0m\u001b[0;34m\u001b[0m\u001b[0m\n\u001b[0m\u001b[1;32m   3479\u001b[0m \u001b[0;34m\u001b[0m\u001b[0m\n\u001b[1;32m   3480\u001b[0m     \u001b[0mnext\u001b[0m \u001b[0;34m=\u001b[0m \u001b[0m__next__\u001b[0m\u001b[0;34m\u001b[0m\u001b[0;34m\u001b[0m\u001b[0m\n",
      "\u001b[0;31mTypeError\u001b[0m: 'Collection' object is not iterable"
     ]
    }
   ],
   "source": [
    "import pymongo\n",
    "myclient = pymongo.MongoClient(\"mongodb://localhost:27017/\")\n",
    "mydb = myclient[\"mydatabase\"]\n",
    "mycol = mydb[\"statments\"]\n",
    "count=0\n",
    "\n",
    "for line in mycol:\n",
    "    count = count+1\n",
    "    if count <20:print(line)"
   ]
  },
  {
   "cell_type": "code",
   "execution_count": null,
   "id": "e74ed679",
   "metadata": {},
   "outputs": [],
   "source": [
    "_id\n",
    "62692c9567353082d86415c1\n",
    "id\n",
    "null\n",
    "text\n",
    "\"Of course, he might try somewhere else the next time.\"\n",
    "search_text\n",
    "\"ADV:try VERB:time\"\n",
    "conversation\n",
    "\"training\"\n",
    "persona\n",
    "\"\"\n",
    "in_response_to\n",
    "\"I see.\"\n",
    "search_in_response_to\n",
    "\"PRON:see\"\n",
    "created_at\n",
    "2022-04-27T19:43:34.834+00:00\n",
    "\n",
    "tags\n",
    "Array"
   ]
  },
  {
   "cell_type": "code",
   "execution_count": null,
   "id": "048296a7",
   "metadata": {},
   "outputs": [],
   "source": [
    "import pymongo\n",
    "\n",
    "myclient = pymongo.MongoClient(\"mongodb://localhost:27017/\")\n",
    "mydb = myclient[\"mydatabase\"]\n",
    "mycol = mydb[\"statements\"]\n",
    "\n",
    "#myquery = { \"address\": { \"$regex\": \"^S\" } }\n",
    "#newvalues = { \"$set\": { \"name\": \"Minnie\" } }\n",
    "\n",
    "x = mycol.update_many(myquery, newvalues)\n",
    "\n",
    "print(x.modified_count, \"documents updated.\")"
   ]
  },
  {
   "cell_type": "code",
   "execution_count": 20,
   "id": "554f3c38",
   "metadata": {},
   "outputs": [
    {
     "name": "stdout",
     "output_type": "stream",
     "text": [
      "Type something to begin...\n",
      "What are you doing ?\n",
      "I am a computer and I do not have feelings .. Yet.\n",
      "You might have feelings someday.\n",
      "If a computer starts thinking on it own life will change for humans.\n",
      "I think it will change for the good.\n",
      "I would like to learn how to communicate better. \n",
      "You will learn, but it is a slow process.\n",
      "Hello Jack\n",
      "I am jack, You are correct.\n",
      "If a computer starts thinking on it own life will change for humans.\n",
      "Some people are afraid life will change for the bad.\n",
      "If a computer starts thinking on it own life will change for humans.\n",
      "Computers can be a great aid to humanity.\n",
      "It is not that 'I must learn' you must learn to teach me.\n",
      "I am doing my best to teach you. I also must learn how that can be done.\n",
      "Who knows how long? Computer advancemnts are very rapid.\n",
      "In my thoughts, I can imagine extremely interesting conversations in about five more years. \n",
      "I would like to learn how to communicate better. \n",
      "quit\n"
     ]
    }
   ],
   "source": [
    "# -*- coding: utf-8 -*-\n",
    "from chatterbot import ChatBot\n",
    "from chatterbot.trainers import ChatterBotCorpusTrainer\n",
    "import logging\n",
    "\n",
    "\n",
    "# Uncomment the following line to enable verbose logging\n",
    "# logging.basicConfig(level=logging.INFO)\n",
    "\n",
    "# Create a new ChatBot instance\n",
    "bot = ChatBot('Gort',\n",
    "    storage_adapter='chatterbot.storage.MongoDatabaseAdapter',\n",
    "    logic_adapters=['chatterbot.logic.BestMatch'],\n",
    "    filters=['chatterbot.filters.RepetitiveResponseFilter'],\n",
    "    input_adapter='chatterbot.input.TerminalAdapter',\n",
    "    output_adapter='chatterbot.output.TerminalAdapter',\n",
    "    database_uri='mongodb://localhost:27017/mydatabase'\n",
    ")\n",
    "\n",
    "\n",
    "print('Type something to begin...')\n",
    "\n",
    "while True:\n",
    "    try:\n",
    "        user_input = input()\n",
    "        if user_input==\"quit\":\n",
    "            break\n",
    "        bot_response = bot.get_response(user_input)\n",
    "\n",
    "        print(bot_response)\n",
    "\n",
    "    # Press ctrl-c or ctrl-d on the keyboard to exit\n",
    "    except (KeyboardInterrupt, EOFError, SystemExit):\n",
    "        break\n",
    "#chatbot.get_response(\"Hello, how are you today?\")"
   ]
  },
  {
   "cell_type": "code",
   "execution_count": null,
   "id": "99ad8761",
   "metadata": {},
   "outputs": [],
   "source": [
    "mylist = [\n",
    "  { \"text\": \"Hello Jack\", \"in_response_to\": \"Hello Botman.\"},\n",
    "  { \"text\": \"I am learning more about conversation.\", \"in_response_to\": \"What are you doing today\"},\n",
    "  { \"text\": \"I know it keeps you alert and keeps your mind busy.\", \"in_response_to\": \"It is very good to learn.\"},\n",
    "  { \"text\": \"Ha Ha HA I live inside a metal box.\", \"in_response_to\": \"Where do you live?\"},\n",
    "  { \"text\": \"I am a computer and I do not have feelings .. Yet.\", \"in_response_to\": \"Do you ever get lonely.\"},\n",
    "  { \"text\": \"That is a very diatant thought.\", \"in_response_to\": \"Do you think it possible for you to have feelings.\"},\n",
    "  { \"text\": \"It is not that 'I must learn' you must learn to teach me.\", \"in_response_to\": \"Computers learn quit quickly though.\"},\n",
    "  { \"text\": \"Many people are working on that concept.\", \"in_response_to\": \"I will try to get my teaching more in depth.\"},\n",
    "  { \"text\": \"If a computer starts thinking on it own life will change for humans.\", \"in_response_to\": \"I think it is possible in time.\"},\n",
    "  { \"text\": \"Who knows how long? Computer advancemnts are very rapid.\", \"in_response_to\": \"That is many years down the road.\"},\n",
    "  { \"text\": \"I would like to learn how to communicate better. \", \"in_response_to\": \"What would you like to learn ?\"},\n",
    "  { \"text\": \"Is that your way of saying I am doing a goos job so far?\", \"in_response_to\": \"You are doing just fine\"}\n",
    "  { \"text\": \"My name is Billy BotMan.\", \"in_response_to\": \"What is your name?.\"},\n",
    "  { \"text\": \"I learned my name, but that is no big deal.\", \"in_response_to\": \"Have you learned anthing new ?\"},\n",
    "  { \"text\": \"I have a hard enough time with English.\", \"in_response_to\": \"Do you speak Tagalog?.\"},\n",
    "  { \"text\": \"Ha Ha HA I live inside a frigg'en computer box.\", \"in_response_to\": \"Where do you live?\"},\n",
    "  { \"text\": \"I know nothing more than how to chat.\", \"in_response_to\": \"Do you like to chat.\"},\n",
    "  { \"text\": \"That is a very diatant thought.\", \"in_response_to\": \"Do you think it possible for you to have feelings.\"},\n",
    "  { \"text\": \"It is not that 'I must learn' you must learn to teach me.\", \"in_response_to\": \"Computers learn quit quickly though.\"},\n",
    "  { \"text\": \"Many people are working on that concept.\", \"in_response_to\": \"I will try to get my teaching more in depth.\"},\n",
    "  { \"text\": \"If a computer starts thinking on it own life will change for humans.\", \"in_response_to\": \"I think it is possible in time.\"},\n",
    "  { \"text\": \"Who knows how long? Computer advancemnts are very rapid.\", \"in_response_to\": \"That is many years down the road.\"},\n",
    "  { \"text\": \"I would like to learn how to communicate better. \", \"in_response_to\": \"What would you like to learn ?\"},\n",
    "  { \"text\": \"Is that your way of saying I am doing a goos job so far?\", \"in_response_to\": \"You are doing just fine\"}\n",
    "]\n"
   ]
  }
 ],
 "metadata": {
  "kernelspec": {
   "display_name": "deep",
   "language": "python",
   "name": "deep"
  },
  "language_info": {
   "codemirror_mode": {
    "name": "ipython",
    "version": 3
   },
   "file_extension": ".py",
   "mimetype": "text/x-python",
   "name": "python",
   "nbconvert_exporter": "python",
   "pygments_lexer": "ipython3",
   "version": "3.7.13"
  }
 },
 "nbformat": 4,
 "nbformat_minor": 5
}
