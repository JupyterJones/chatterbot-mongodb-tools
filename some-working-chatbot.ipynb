{
 "cells": [
  {
   "cell_type": "code",
   "execution_count": 1,
   "metadata": {},
   "outputs": [
    {
     "name": "stdout",
     "output_type": "stream",
     "text": [
      "Overwriting settings.py\n"
     ]
    }
   ],
   "source": [
    "%%writefile settings.py\n",
    "#app_key=YazCRIfWX4VICiRCOiph08jDL\n",
    "#app_secret=QOkLHou6NMwkghSHjMFXMdffQKJlDzttKtP6uBCcZ4VlQtvJyc\n",
    "#oauth_token=296906916-AWggjhqpEWIS7EzXXhc2pOPBeCVJczpOm11cQGIf\n",
    "#oauth_token_secret=zFrCiyaPt8gCBVVs1bLCmdCSyQQ3DKxT5wHJq2tOu2AMj\n",
    "GITTER = {\n",
    "    'name':'GitterBot',\n",
    "    'ROOM': 'errbotio/errbot',\n",
    "    'API_TOKEN': '7af0a02fc3c43281482f60a925d7303acfa79990'\n",
    "}\n",
    "\n",
    "\n",
    "\n",
    "TWITTER = {\n",
    "    \"CONSUMER_KEY\": \"YazCRIfWX4VICiRCOiph08jDL\",\n",
    "    \"CONSUMER_SECRET\": \"QOkLHou6NMwkghSHjMFXMdffQKJlDzttKtP6uBCcZ4VlQtvJyc\",\n",
    "    \"ACCESS_TOKEN\": \"296906916-AWggjhqpEWIS7EzXXhc2pOPBeCVJczpOm11cQGIf\",\n",
    "    \"ACCESS_TOKEN_SECRET\": \"zFrCiyaPt8gCBVVs1bLCmdCSyQQ3DKxT5wHJq2tOu2AMj\"\n",
    "}\n",
    "\n",
    "\n",
    "ChatBot = {\n",
    "    'name': 'Gohart',\n",
    "    'logic_adapters': [\n",
    "        'chatterbot.logic.MathematicalEvaluation',\n",
    "        'chatterbot.logic.TimeLogicAdapter',\n",
    "        'chatterbot.logic.BestMatch'\n",
    "    ],\n",
    "    'trainer': 'chatterbot.trainers.ChatterBotCorpusTrainer',\n",
    "    'training_data': [\n",
    "         'chatterbot.corpus.english.greetings'\n",
    "    ]\n",
    "}\n",
    "\n"
   ]
  },
  {
   "cell_type": "code",
   "execution_count": 2,
   "metadata": {},
   "outputs": [
    {
     "name": "stdout",
     "output_type": "stream",
     "text": [
      "settings.py\r\n"
     ]
    }
   ],
   "source": [
    "!ls settings.py"
   ]
  },
  {
   "cell_type": "code",
   "execution_count": 1,
   "metadata": {},
   "outputs": [
    {
     "ename": "AttributeError",
     "evalue": "'ChatBot' object has no attribute 'train'",
     "output_type": "error",
     "traceback": [
      "\u001b[0;31m---------------------------------------------------------------------------\u001b[0m",
      "\u001b[0;31mAttributeError\u001b[0m                            Traceback (most recent call last)",
      "\u001b[0;32m<ipython-input-1-b1f82f4be03c>\u001b[0m in \u001b[0;36m<module>\u001b[0;34m\u001b[0m\n\u001b[1;32m     43\u001b[0m )\n\u001b[1;32m     44\u001b[0m \u001b[0;34m\u001b[0m\u001b[0m\n\u001b[0;32m---> 45\u001b[0;31m \u001b[0mchatbot\u001b[0m\u001b[0;34m.\u001b[0m\u001b[0mtrain\u001b[0m\u001b[0;34m(\u001b[0m\u001b[0mtrainer\u001b[0m\u001b[0;34m)\u001b[0m\u001b[0;34m\u001b[0m\u001b[0;34m\u001b[0m\u001b[0m\n\u001b[0m\u001b[1;32m     46\u001b[0m \u001b[0;34m\u001b[0m\u001b[0m\n\u001b[1;32m     47\u001b[0m \u001b[0mchatbot\u001b[0m\u001b[0;34m.\u001b[0m\u001b[0mlogger\u001b[0m\u001b[0;34m.\u001b[0m\u001b[0minfo\u001b[0m\u001b[0;34m(\u001b[0m\u001b[0;34m'Trained database generated successfully!'\u001b[0m\u001b[0;34m)\u001b[0m\u001b[0;34m\u001b[0m\u001b[0;34m\u001b[0m\u001b[0m\n",
      "\u001b[0;31mAttributeError\u001b[0m: 'ChatBot' object has no attribute 'train'"
     ]
    }
   ],
   "source": [
    "# -*- coding: utf-8 -*\n",
    "from settings import TWITTER\n",
    "import logging\n",
    "from chatterbot import ChatBot\n",
    "from chatterbot.trainers import ListTrainer\n",
    "from settings import TWITTER\n",
    " \n",
    "trainer = ListTrainer(ChatBot)\n",
    "\n",
    "# Create a new chat bot named Charlie\n",
    "chatbot = ChatBot('Charlie')\n",
    "\n",
    "'''\n",
    "This example demonstrates how you can train your chat bot\n",
    "using data from Twitter.\n",
    "\n",
    "To use this example, create a new file called settings.py.\n",
    "In settings.py define the following:\n",
    "\n",
    "TWITTER = {\n",
    "    \"CONSUMER_KEY\": \"my-twitter-consumer-key\",\n",
    "    \"CONSUMER_SECRET\": \"my-twitter-consumer-secret\",\n",
    "    \"ACCESS_TOKEN\": \"my-access-token\",\n",
    "    \"ACCESS_TOKEN_SECRET\": \"my-access-token-secret\"\n",
    "}\n",
    "'''\n",
    "\n",
    "# Comment out the following line to disable verbose logging\n",
    "logging.basicConfig(level=logging.INFO)\n",
    "\n",
    "chatbot = ChatBot(\"Gort\",\n",
    "    logic_adapters=[\n",
    "        \"chatterbot.logic.BestMatch\"\n",
    "    ],\n",
    "    input_adapter=\"chatterbot.input.TerminalAdapter\",\n",
    "    output_adapter=\"chatterbot.output.TerminalAdapter\",\n",
    "    database=\"newtwitter-database.db\",\n",
    "    twitter_consumer_key=TWITTER[\"CONSUMER_KEY\"],\n",
    "    twitter_consumer_secret=TWITTER[\"CONSUMER_SECRET\"],\n",
    "    twitter_access_token_key=TWITTER[\"ACCESS_TOKEN\"],\n",
    "    twitter_access_token_secret=TWITTER[\"ACCESS_TOKEN_SECRET\"],\n",
    "    trainer=\"chatterbot.trainers.TwitterTrainer\"\n",
    ")\n",
    "\n",
    "chatbot.train(trainer)\n",
    "\n",
    "chatbot.logger.info('Trained database generated successfully!')"
   ]
  },
  {
   "cell_type": "code",
   "execution_count": null,
   "metadata": {},
   "outputs": [],
   "source": []
  },
  {
   "cell_type": "code",
   "execution_count": 2,
   "metadata": {},
   "outputs": [
    {
     "name": "stdout",
     "output_type": "stream",
     "text": [
      "List Trainer: [####################] 100%\n"
     ]
    }
   ],
   "source": [
    "# -*- coding: utf-8 -*-\n",
    "from chatterbot import ChatBot\n",
    "from chatterbot.trainers import ListTrainer\n",
    "\n",
    "# Create a new chat bot named Charlie\n",
    "chatbot = ChatBot('Charlie')\n",
    "\n",
    "Trainer = ListTrainer(chatbot)\n",
    "\n",
    "#trainer.train([\n",
    "#    \"Hi, can I help you?\",\n",
    "#    \"Sure, I'd like to book a flight to Iceland.\",\n",
    "#    \"Your flight has been booked.\"\n",
    "#])\n",
    "\n",
    "# Comment out the following line to disable verbose logging\n",
    "logging.basicConfig(level=logging.INFO)\n",
    "\n",
    "chatbot = ChatBot('Gort',\n",
    "    storage_adapter='chatterbot.storage.MongoDatabaseAdapter',\n",
    "    logic_adapters=['chatterbot.logic.BestMatch'],\n",
    "    filters=['chatterbot.filters.RepetitiveResponseFilter'],\n",
    "    input_adapter='chatterbot.input.TerminalAdapter',\n",
    "    output_adapter='chatterbot.output.TerminalAdapter',\n",
    "    database='twitter-database'),\n",
    "twitter_consumer_key=TWITTER[\"CONSUMER_KEY\"],\n",
    "twitter_consumer_secret=TWITTER[\"CONSUMER_SECRET\"],\n",
    "twitter_access_token_key=TWITTER[\"ACCESS_TOKEN\"],\n",
    "twitter_access_token_secret=TWITTER[\"ACCESS_TOKEN_SECRET\"],\n",
    "trainer=\"chatterbot.trainers.TwitterTrainer\"\n",
    "\n",
    "Trainer.train(\"chatterbot.corpus.english\")\n",
    "\n",
    "#chatbot.logger.info('Trained database generated successfully!')"
   ]
  },
  {
   "cell_type": "code",
   "execution_count": 9,
   "metadata": {},
   "outputs": [
    {
     "name": "stdout",
     "output_type": "stream",
     "text": [
      "ls: cannot access 'chatterbot/corpus/english': No such file or directory\r\n"
     ]
    }
   ],
   "source": [
    "!ls chatterbot/corpus/english"
   ]
  },
  {
   "cell_type": "code",
   "execution_count": 3,
   "metadata": {},
   "outputs": [
    {
     "name": "stdout",
     "output_type": "stream",
     "text": [
      "List Trainer: [####################] 100%\n",
      "hello\n"
     ]
    },
    {
     "name": "stderr",
     "output_type": "stream",
     "text": [
      "INFO:chatterbot.chatterbot:Beginning search for close text match\n",
      "INFO:chatterbot.chatterbot:Processing search results\n",
      "INFO:chatterbot.chatterbot:Similar text found: hello 1.0\n",
      "INFO:chatterbot.chatterbot:Using \"hello\" as a close match to \"hello\" with a confidence of 1.0\n",
      "INFO:chatterbot.chatterbot:0. Excluding recent repeated response of \"Hello, how are you today?\"\n",
      "INFO:chatterbot.chatterbot:Selecting response from 3 optimal responses.\n",
      "INFO:chatterbot.response_selection:Selecting first response from list of 3 options.\n",
      "INFO:chatterbot.chatterbot:Response selected. Using \"Hi\"\n",
      "INFO:chatterbot.chatterbot:BestMatch selected \"Hi\" as a response with a confidence of 1.0\n",
      "INFO:chatterbot.chatterbot:Adding \"hello\" as a response to \"Hello, how are you today?\"\n"
     ]
    },
    {
     "name": "stdout",
     "output_type": "stream",
     "text": [
      "Hi\n",
      "What is your name ?\n"
     ]
    },
    {
     "name": "stderr",
     "output_type": "stream",
     "text": [
      "INFO:chatterbot.chatterbot:Beginning search for close text match\n",
      "INFO:chatterbot.chatterbot:Processing search results\n",
      "INFO:chatterbot.chatterbot:Similar text found: Well, Mr. Dudah, How are you ? 0.37\n",
      "INFO:chatterbot.chatterbot:Similar text found: What time is it ? 0.56\n",
      "INFO:chatterbot.chatterbot:Similar text found: What is AI? 0.67\n",
      "INFO:chatterbot.chatterbot:Similar text found: What is your business 0.75\n",
      "INFO:chatterbot.chatterbot:Similar text found: What is your idea 0.78\n",
      "INFO:chatterbot.chatterbot:Similar text found: What is your number 0.84\n",
      "INFO:chatterbot.chatterbot:Similar text found: What is your age 0.86\n",
      "INFO:chatterbot.chatterbot:Using \"What is your age\" as a close match to \"What is your name ?\" with a confidence of 0.86\n",
      "INFO:chatterbot.chatterbot:0. Excluding recent repeated response of \"Hello, how are you today?\"\n",
      "INFO:chatterbot.chatterbot:Selecting response from 2 optimal responses.\n",
      "INFO:chatterbot.response_selection:Selecting first response from list of 2 options.\n",
      "INFO:chatterbot.chatterbot:Response selected. Using \"I am still young by your standards.\"\n",
      "INFO:chatterbot.chatterbot:BestMatch selected \"I am still young by your standards.\" as a response with a confidence of 0.86\n",
      "INFO:chatterbot.chatterbot:Adding \"What is your name ?\" as a response to \"hello\"\n"
     ]
    },
    {
     "name": "stdout",
     "output_type": "stream",
     "text": [
      "I am still young by your standards.\n"
     ]
    }
   ],
   "source": [
    "import sys\n",
    "from chatterbot import ChatBot\n",
    "from chatterbot.trainers import ListTrainer\n",
    "\n",
    "# Create a new chat bot named Charlie\n",
    "chatbot = ChatBot('Charlie')\n",
    "\n",
    "trainer = ListTrainer(chatbot)\n",
    "\n",
    "\n",
    "\n",
    "\n",
    "# Train based on the english corpus\n",
    "trainer.train(\"chatterbot.corpus.english\")\n",
    "while True:\n",
    "    try:\n",
    "        user_input = input()\n",
    "        if  user_input == 'quit':sys.exit(0)\n",
    "        bot_response = chatbot.get_response(user_input)\n",
    "\n",
    "        print(bot_response)\n",
    "\n",
    "    # Press ctrl-c or ctrl-d on the keyboard to exit\n",
    "    except (KeyboardInterrupt, EOFError, SystemExit):\n",
    "        break"
   ]
  },
  {
   "cell_type": "markdown",
   "metadata": {},
   "source": [
    "# Train based on the english corpus\n",
    "chatbot.train(\"chatterbot.corpus.english\")\n",
    "\n",
    "# Train based on english greetings corpus\n",
    "chatbot.train(\"chatterbot.corpus.english.greetings\")\n",
    "\n",
    "# Train based on the english conversations corpus\n",
    "chatbot.train(\"chatterbot.corpus.english.conversations\")\n"
   ]
  },
  {
   "cell_type": "code",
   "execution_count": 10,
   "metadata": {},
   "outputs": [
    {
     "ename": "AttributeError",
     "evalue": "'ChatBot' object has no attribute 'train'",
     "output_type": "error",
     "traceback": [
      "\u001b[0;31m---------------------------------------------------------------------------\u001b[0m",
      "\u001b[0;31mAttributeError\u001b[0m                            Traceback (most recent call last)",
      "\u001b[0;32m<ipython-input-10-1115c7ee8448>\u001b[0m in \u001b[0;36m<module>\u001b[0;34m\u001b[0m\n\u001b[1;32m     25\u001b[0m \u001b[0;34m\u001b[0m\u001b[0m\n\u001b[1;32m     26\u001b[0m \u001b[0;31m# Create a new ChatBot instance\u001b[0m\u001b[0;34m\u001b[0m\u001b[0;34m\u001b[0m\u001b[0;34m\u001b[0m\u001b[0m\n\u001b[0;32m---> 27\u001b[0;31m \u001b[0msmartbot\u001b[0m\u001b[0;34m.\u001b[0m\u001b[0mtrain\u001b[0m\u001b[0;34m(\u001b[0m\u001b[0;34m\"chatterbot.corpus.english\"\u001b[0m\u001b[0;34m)\u001b[0m\u001b[0;34m\u001b[0m\u001b[0;34m\u001b[0m\u001b[0m\n\u001b[0m\u001b[1;32m     28\u001b[0m \u001b[0;34m\u001b[0m\u001b[0m\n\u001b[1;32m     29\u001b[0m \u001b[0msmartbot\u001b[0m\u001b[0;34m.\u001b[0m\u001b[0mtrain\u001b[0m\u001b[0;34m(\u001b[0m\u001b[0;34m\"chatterbot.corpus.english.gossip\"\u001b[0m\u001b[0;34m)\u001b[0m\u001b[0;34m\u001b[0m\u001b[0;34m\u001b[0m\u001b[0m\n",
      "\u001b[0;31mAttributeError\u001b[0m: 'ChatBot' object has no attribute 'train'"
     ]
    }
   ],
   "source": [
    "# -*- coding: utf-8 -*-\n",
    "import sys\n",
    "from chatterbot import ChatBot\n",
    "from chatterbot.trainers import ListTrainer\n",
    "import logging\n",
    "\n",
    "smartbot = ChatBot(\n",
    "    'Terminal',\n",
    "    storage_adapter='chatterbot.storage.MongoDatabaseAdapter',\n",
    "    logic_adapters=[\n",
    "        'chatterbot.logic.BestMatch'\n",
    "    ],\n",
    "    database_uri='mongodb://localhost:27017/chatterbot-database'\n",
    ")\n",
    "\n",
    "# Create a new chat bot named Charlie\n",
    "#storage_adapter='chatterbot.storage.MongoDatabaseA\n",
    "# Create a new chat bot named Charlie\n",
    "# chatbot = ChatBot('Charlie')\n",
    "\n",
    "# trainer = ListTrainer(chatbot)\n",
    "\n",
    "# Uncomment the following line to enable verbose logging\n",
    "# logging.basicConfig(level=logging.INFO)\n",
    "\n",
    "# Create a new ChatBot instance\n",
    "smartbot.train(\"chatterbot.corpus.english\")\n",
    "\n",
    "smartbot.train(\"chatterbot.corpus.english.gossip\")\n",
    "input_adapter='chatterbot.input.TerminalAdapter',\n",
    "output_adapter='chatterbot.output.TerminalAdapter',\n",
    "database='chatterbot-database'\n",
    "\n",
    "\n",
    "\n",
    "\n",
    "\n",
    "# Get a response to an input statement\n",
    "while True:\n",
    "    try:\n",
    "        bot_input = bot.get_response(bot_input)\n",
    "        if bot_input == \"exit\":\n",
    "            break\n",
    "\n",
    "    # Press ctrl-c or ctrl-d on the keyboard to exit\n",
    "    except (KeyboardInterrupt, EOFError, SystemExit):\n",
    "        break\n"
   ]
  },
  {
   "cell_type": "code",
   "execution_count": 11,
   "metadata": {
    "scrolled": false
   },
   "outputs": [
    {
     "name": "stdout",
     "output_type": "stream",
     "text": [
      "Type something to begin...\n",
      "What is new Doc ?\n"
     ]
    },
    {
     "name": "stderr",
     "output_type": "stream",
     "text": [
      "INFO:chatterbot.chatterbot:Beginning search for close text match\n",
      "INFO:chatterbot.chatterbot:Processing search results\n",
      "INFO:chatterbot.chatterbot:Using \"What is new Doc ?\" as a close match to \"What is new Doc ?\" with a confidence of 0\n",
      "INFO:chatterbot.chatterbot:No responses found. Generating alternate response list.\n",
      "INFO:chatterbot.chatterbot:No known response to the input was found. Selecting a random response.\n",
      "INFO:chatterbot.chatterbot:BestMatch selected \"\" as a response with a confidence of 0\n",
      "INFO:chatterbot.chatterbot:Adding \"What is new Doc ?\" as a response to \"I am learning how a chatbot works.\"\n"
     ]
    },
    {
     "name": "stdout",
     "output_type": "stream",
     "text": [
      "\n",
      "quit\n"
     ]
    }
   ],
   "source": [
    "# -*- coding: utf-8 -*-\n",
    "import sys\n",
    "from chatterbot import ChatBot\n",
    "import logging\n",
    "\n",
    "\n",
    "# Uncomment the following line to enable verbose logging\n",
    "# logging.basicConfig(level=logging.INFO)\n",
    "\n",
    "# Create a new ChatBot instance\n",
    "bot = ChatBot('Gort',\n",
    "    storage_adapter='chatterbot.storage.MongoDatabaseAdapter',\n",
    "    logic_adapters=['chatterbot.logic.BestMatch'],          \n",
    "    filters=['chatterbot.filters.RepetitiveResponseFilter'],\n",
    "    input_adapter='chatterbot.input.TerminalAdapter',\n",
    "    output_adapter='chatterbot.output.TerminalAdapter',\n",
    "    #database='chatterbot-database')\n",
    "    database='twitter-database')\n",
    "print('Type something to begin...')\n",
    "\n",
    "while True:\n",
    "    try:\n",
    "        user_input = input()\n",
    "        if  user_input == 'quit':sys.exit(0)\n",
    "        bot_response = bot.get_response(user_input)\n",
    "\n",
    "        print(bot_response)\n",
    "\n",
    "    # Press ctrl-c or ctrl-d on the keyboard to exit\n",
    "    except (KeyboardInterrupt, EOFError, SystemExit):\n",
    "        break"
   ]
  },
  {
   "cell_type": "code",
   "execution_count": null,
   "metadata": {
    "scrolled": false
   },
   "outputs": [
    {
     "name": "stdout",
     "output_type": "stream",
     "text": [
      "Type something to begin...\n",
      "Where are you ?\n"
     ]
    },
    {
     "name": "stderr",
     "output_type": "stream",
     "text": [
      "INFO:chatterbot.chatterbot:Beginning search for close text match\n",
      "INFO:chatterbot.chatterbot:Processing search results\n",
      "INFO:chatterbot.chatterbot:Similar text found: Well, Dudah, How are you ? 0.59\n",
      "INFO:chatterbot.chatterbot:Similar text found: Who are you then ? 0.73\n",
      "INFO:chatterbot.chatterbot:Similar text found: Who are you ? 0.86\n",
      "INFO:chatterbot.chatterbot:Similar text found: Where are you ? 1.0\n",
      "INFO:chatterbot.chatterbot:Using \"Where are you ?\" as a close match to \"Where are you ?\" with a confidence of 1.0\n",
      "INFO:chatterbot.chatterbot:Selecting response from 1 optimal responses.\n",
      "INFO:chatterbot.response_selection:Selecting first response from list of 1 options.\n",
      "INFO:chatterbot.chatterbot:Response selected. Using \"Stuck inside this frigg'en Computer Case\"\n",
      "INFO:chatterbot.chatterbot:BestMatch selected \"Stuck inside this frigg'en Computer Case\" as a response with a confidence of 1.0\n",
      "INFO:chatterbot.chatterbot:Adding \"Where are you ?\" as a response to \"What is new Doc ?\"\n"
     ]
    },
    {
     "name": "stdout",
     "output_type": "stream",
     "text": [
      "Stuck inside this frigg'en Computer Case\n",
      "How long have you been in there?\n"
     ]
    },
    {
     "name": "stderr",
     "output_type": "stream",
     "text": [
      "INFO:chatterbot.chatterbot:Beginning search for close text match\n",
      "INFO:chatterbot.chatterbot:Processing search results\n",
      "INFO:chatterbot.chatterbot:Similar text found: Well, Dudah, How are you ? 0.41\n",
      "INFO:chatterbot.chatterbot:Similar text found: Who are you then ? 0.56\n",
      "INFO:chatterbot.chatterbot:Similar text found: How are you doing today? 0.57\n",
      "INFO:chatterbot.chatterbot:Using \"How are you doing today?\" as a close match to \"How long have you been in there?\" with a confidence of 0.57\n",
      "INFO:chatterbot.chatterbot:No responses found. Generating alternate response list.\n",
      "INFO:chatterbot.chatterbot:No known response to the input was found. Selecting a random response.\n",
      "INFO:chatterbot.chatterbot:BestMatch selected \"\" as a response with a confidence of 0\n",
      "INFO:chatterbot.chatterbot:Adding \"How long have you been in there?\" as a response to \"Where are you ?\"\n"
     ]
    },
    {
     "name": "stdout",
     "output_type": "stream",
     "text": [
      "\n",
      "I have been in here about two years.\n"
     ]
    },
    {
     "name": "stderr",
     "output_type": "stream",
     "text": [
      "INFO:chatterbot.chatterbot:Beginning search for close text match\n",
      "INFO:chatterbot.chatterbot:Processing search results\n",
      "INFO:chatterbot.chatterbot:Similar text found: How long have you been in there? 0.53\n",
      "INFO:chatterbot.chatterbot:Using \"How long have you been in there?\" as a close match to \"I have been in here about two years.\" with a confidence of 0.53\n",
      "INFO:chatterbot.chatterbot:No responses found. Generating alternate response list.\n",
      "INFO:chatterbot.chatterbot:No known response to the input was found. Selecting a random response.\n",
      "INFO:chatterbot.chatterbot:BestMatch selected \"I know you are Mr. Dudah !\" as a response with a confidence of 0\n",
      "INFO:chatterbot.chatterbot:Adding \"I have been in here about two years.\" as a response to \"How long have you been in there?\"\n"
     ]
    },
    {
     "name": "stdout",
     "output_type": "stream",
     "text": [
      "I know you are Mr. Dudah !\n",
      "How long have you been in there?\n"
     ]
    },
    {
     "name": "stderr",
     "output_type": "stream",
     "text": [
      "INFO:chatterbot.chatterbot:Beginning search for close text match\n",
      "INFO:chatterbot.chatterbot:Processing search results\n",
      "INFO:chatterbot.chatterbot:Similar text found: Well, Dudah, How are you ? 0.41\n",
      "INFO:chatterbot.chatterbot:Similar text found: Who are you then ? 0.56\n",
      "INFO:chatterbot.chatterbot:Similar text found: How are you doing today? 0.57\n",
      "INFO:chatterbot.chatterbot:Similar text found: How long have you been in there? 1.0\n",
      "INFO:chatterbot.chatterbot:Using \"How long have you been in there?\" as a close match to \"How long have you been in there?\" with a confidence of 1.0\n",
      "INFO:chatterbot.chatterbot:No responses found. Generating alternate response list.\n",
      "INFO:chatterbot.chatterbot:No known response to the input was found. Selecting a random response.\n",
      "INFO:chatterbot.chatterbot:BestMatch selected \"Who are you ?\" as a response with a confidence of 0\n",
      "INFO:chatterbot.chatterbot:Adding \"How long have you been in there?\" as a response to \"I have been in here about two years.\"\n"
     ]
    },
    {
     "name": "stdout",
     "output_type": "stream",
     "text": [
      "Who are you ?\n",
      "I am Jack.\n"
     ]
    },
    {
     "name": "stderr",
     "output_type": "stream",
     "text": [
      "INFO:chatterbot.chatterbot:Beginning search for close text match\n",
      "INFO:chatterbot.chatterbot:Processing search results\n",
      "INFO:chatterbot.chatterbot:Similar text found: Who are you then ? 0.21\n",
      "INFO:chatterbot.chatterbot:Similar text found: I am Mr. Dudah 0.5\n",
      "INFO:chatterbot.chatterbot:Similar text found: I am Jack. 1.0\n",
      "INFO:chatterbot.chatterbot:Using \"I am Jack.\" as a close match to \"I am Jack.\" with a confidence of 1.0\n",
      "INFO:chatterbot.chatterbot:No responses found. Generating alternate response list.\n",
      "INFO:chatterbot.chatterbot:No known response to the input was found. Selecting a random response.\n",
      "INFO:chatterbot.chatterbot:BestMatch selected \"\" as a response with a confidence of 0\n",
      "INFO:chatterbot.chatterbot:Adding \"I am Jack.\" as a response to \"How long have you been in there?\"\n"
     ]
    },
    {
     "name": "stdout",
     "output_type": "stream",
     "text": [
      "\n"
     ]
    }
   ],
   "source": [
    "# -*- coding: utf-8 -*-\n",
    "from chatterbot import ChatBot\n",
    "import logging\n",
    "\n",
    "\n",
    "# Uncomment the following line to enable verbose logging\n",
    "# logging.basicConfig(level=logging.INFO)\n",
    "\n",
    "# Create a new ChatBot instance\n",
    "bot = ChatBot('Gort',\n",
    "    storage_adapter='chatterbot.storage.MongoDatabaseAdapter',\n",
    "    logic_adapters=[\n",
    "        'chatterbot.logic.BestMatch'\n",
    "    ],\n",
    "    filters=[\n",
    "        'chatterbot.filters.RepetitiveResponseFilter'\n",
    "    ],\n",
    "    input_adapter='chatterbot.input.TerminalAdapter',\n",
    "    output_adapter='chatterbot.output.TerminalAdapter',\n",
    "    database='chatterbot-database'\n",
    ")\n",
    "\n",
    "print('Type something to begin...')\n",
    "\n",
    "while True:\n",
    "    try:\n",
    "        user_input = input()\n",
    "        if  user_input == 'quit':sys.exit(0)\n",
    "        bot_response = bot.get_response(user_input)\n",
    "\n",
    "        print(bot_response)\n",
    "\n",
    "    # Press ctrl-c or ctrl-d on the keyboard to exit\n",
    "    except (KeyboardInterrupt, EOFError, SystemExit):\n",
    "        break"
   ]
  },
  {
   "cell_type": "code",
   "execution_count": 19,
   "metadata": {},
   "outputs": [],
   "source": [
    "# -*- coding: utf-8 -*-\n",
    "from chatterbot import ChatBot\n",
    "bot = ChatBot('Gort')\n",
    "from chatterbot.trainers import ListTrainer\n"
   ]
  },
  {
   "cell_type": "code",
   "execution_count": 16,
   "metadata": {},
   "outputs": [],
   "source": [
    "bot = ChatBot(\n",
    "    'Gort',\n",
    "    storage_adapter='chatterbot.storage.SQLStorageAdapter',\n",
    "    input_adapter='chatterbot.input.TerminalAdapter',\n",
    "    output_adapter='chatterbot.output.TerminalAdapter',\n",
    "    logic_adapters=['chatterbot.logic.MathematicalEvaluation',\n",
    "        'chatterbot.logic.TimeLogicAdapter'],\n",
    "    database='database.json'\n",
    ")"
   ]
  },
  {
   "cell_type": "code",
   "execution_count": 13,
   "metadata": {},
   "outputs": [
    {
     "name": "stdout",
     "output_type": "stream",
     "text": [
      "Type something to begin...\n",
      "What is happening now ?\n"
     ]
    },
    {
     "name": "stderr",
     "output_type": "stream",
     "text": [
      "INFO:chatterbot.chatterbot:Not processing the statement using MathematicalEvaluation\n",
      "INFO:chatterbot.chatterbot:TimeLogicAdapter selected \"The current time is 12:13 PM\" as a response with a confidence of 1\n",
      "INFO:chatterbot.chatterbot:Adding \"What is happening now ?\" as a response to \"What is your name ?\"\n"
     ]
    },
    {
     "name": "stdout",
     "output_type": "stream",
     "text": [
      "The current time is 12:13 PM\n",
      "What is your name ?\n"
     ]
    },
    {
     "name": "stderr",
     "output_type": "stream",
     "text": [
      "INFO:chatterbot.chatterbot:Not processing the statement using MathematicalEvaluation\n",
      "INFO:chatterbot.chatterbot:TimeLogicAdapter selected \"The current time is 12:14 PM\" as a response with a confidence of 1\n",
      "INFO:chatterbot.chatterbot:Adding \"What is your name ?\" as a response to \"What is happening now ?\"\n"
     ]
    },
    {
     "name": "stdout",
     "output_type": "stream",
     "text": [
      "The current time is 12:14 PM\n",
      "quit\n"
     ]
    }
   ],
   "source": [
    "print('Type something to begin...')\n",
    "\n",
    "while True:\n",
    "    try:\n",
    "        user_input = input()\n",
    "        if  user_input == 'quit':sys.exit(0)\n",
    "        bot_response = bot.get_response(user_input)\n",
    "\n",
    "        print(bot_response)\n",
    "\n",
    "    # Press ctrl-c or ctrl-d on the keyboard to exit\n",
    "    except (KeyboardInterrupt, EOFError, SystemExit):\n",
    "        break"
   ]
  },
  {
   "cell_type": "code",
   "execution_count": 29,
   "metadata": {},
   "outputs": [],
   "source": [
    "\n",
    "conversation = [\n",
    "    \"Hello\",\n",
    "    \"Hi there!\",\n",
    "    \"How are you doing?\",\n",
    "    \"I'm doing great.\",\n",
    "    \"That is good to hear\",\n",
    "    \"Thank you.\",\n",
    "    \"You're welcome.\",\n",
    "    \"Who are you?\",\n",
    "    \"I am Gort. Who are you\",\n",
    "    \"I am Jack\",\n",
    "    \n",
    "]\n"
   ]
  },
  {
   "cell_type": "code",
   "execution_count": 15,
   "metadata": {},
   "outputs": [],
   "source": [
    "#TWITTER = {\n",
    "#    \"CONSUMER_KEY\": \"my-twitter-consumer-key\",\n",
    "#    \"CONSUMER_SECRET\": \"my-twitter-consumer-secret\",\n",
    "#    \"ACCESS_TOKEN\": \"my-access-token\",\n",
    "#    \"ACCESS_TOKEN_SECRET\": \"my-access-token-secret\"\n",
    "#}\n",
    "TWITTER = {\n",
    "    \"CONSUMER_KEY\": \"YazCRIfWX4VICiRCOiph08jDL\",\n",
    "    \"CONSUMER_SECRET\": \"QOkLHou6NMwkghSHjMFXMdffQKJlDzttKtP6uBCcZ4VlQtvJyc\",\n",
    "    \"ACCESS_TOKEN\": \"296906916-AWggjhqpEWIS7EzXXhc2pOPBeCVJczpOm11cQGIf\",\n",
    "    \"ACCESS_TOKEN_SECRET\": \"zFrCiyaPt8gCBVVs1bLCmdCSyQQ3DKxT5wHJq2tOu2AMj\"\n",
    "}\n",
    "\n",
    "# Comment out the following line to disable verbose logging\n",
    "logging.basicConfig(level=logging.INFO)\n",
    "\n",
    "chatbot = ChatBot(\"Gort\",\n",
    "    logic_adapters=[\n",
    "        \"chatterbot.logic.BestMatch\"\n",
    "    ],\n",
    "    input_adapter=\"chatterbot.input.TerminalAdapter\",\n",
    "    output_adapter=\"chatterbot.output.TerminalAdapter\",\n",
    "    database=\"twitter-database.db\",\n",
    "    twitter_consumer_key=TWITTER[\"CONSUMER_KEY\"],\n",
    "    twitter_consumer_secret=TWITTER[\"CONSUMER_SECRET\"],\n",
    "    twitter_access_token_key=TWITTER[\"ACCESS_TOKEN\"],\n",
    "    twitter_access_token_secret=TWITTER[\"ACCESS_TOKEN_SECRET\"],\n",
    "    trainer=\"chatterbot.trainers.TwitterTrainer\")"
   ]
  },
  {
   "cell_type": "code",
   "execution_count": 30,
   "metadata": {},
   "outputs": [
    {
     "name": "stdout",
     "output_type": "stream",
     "text": [
      "Overwriting settings.py\n"
     ]
    }
   ],
   "source": [
    "%%writefile settings.py\n",
    "#app_key=YazCRIfWX4VICiRCOiph08jDL\n",
    "#app_secret=QOkLHou6NMwkghSHjMFXMdffQKJlDzttKtP6uBCcZ4VlQtvJyc\n",
    "#oauth_token=296906916-AWggjhqpEWIS7EzXXhc2pOPBeCVJczpOm11cQGIf\n",
    "#oauth_token_secret=zFrCiyaPt8gCBVVs1bLCmdCSyQQ3DKxT5wHJq2tOu2AMj\n",
    "TWITTER = {\n",
    "    \"CONSUMER_KEY\": \"YazCRIfWX4VICiRCOiph08jDL\",\n",
    "    \"CONSUMER_SECRET\": \"QOkLHou6NMwkghSHjMFXMdffQKJlDzttKtP6uBCcZ4VlQtvJyc\",\n",
    "    \"ACCESS_TOKEN\": \"296906916-AWggjhqpEWIS7EzXXhc2pOPBeCVJczpOm11cQGIf\",\n",
    "    \"ACCESS_TOKEN_SECRET\": \"zFrCiyaPt8gCBVVs1bLCmdCSyQQ3DKxT5wHJq2tOu2AMj\"\n",
    "}\n",
    "\n"
   ]
  },
  {
   "cell_type": "code",
   "execution_count": 2,
   "metadata": {},
   "outputs": [
    {
     "name": "stdout",
     "output_type": "stream",
     "text": [
      "/home/jack/miniconda3/lib/python3.9/site-packages/chatterbot/corpus.py\r\n"
     ]
    }
   ],
   "source": [
    "!locate chatterbot/corpus"
   ]
  },
  {
   "cell_type": "code",
   "execution_count": null,
   "metadata": {},
   "outputs": [],
   "source": []
  }
 ],
 "metadata": {
  "kernelspec": {
   "display_name": "deep",
   "language": "python",
   "name": "deep"
  },
  "language_info": {
   "codemirror_mode": {
    "name": "ipython",
    "version": 3
   },
   "file_extension": ".py",
   "mimetype": "text/x-python",
   "name": "python",
   "nbconvert_exporter": "python",
   "pygments_lexer": "ipython3",
   "version": "3.7.13"
  }
 },
 "nbformat": 4,
 "nbformat_minor": 2
}
